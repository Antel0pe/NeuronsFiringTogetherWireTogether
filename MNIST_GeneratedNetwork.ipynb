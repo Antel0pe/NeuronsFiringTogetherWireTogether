{
  "nbformat": 4,
  "nbformat_minor": 0,
  "metadata": {
    "colab": {
      "provenance": []
    },
    "kernelspec": {
      "name": "python3",
      "display_name": "Python 3"
    },
    "language_info": {
      "name": "python"
    }
  },
  "cells": [
    {
      "cell_type": "code",
      "source": [
        "import numpy as np\n",
        "import kagglehub\n",
        "import os\n",
        "from collections import defaultdict\n"
      ],
      "metadata": {
        "id": "q4CImaPlEa5-"
      },
      "execution_count": 1,
      "outputs": []
    },
    {
      "cell_type": "code",
      "source": [
        "if not os.path.exists(\"/content/data\"):\n",
        "  !kaggle datasets download -d hojjatk/mnist-dataset -p /content\n",
        "  !unzip /content/mnist-dataset.zip -d /content/data\n",
        "  !rm /content/mnist-dataset.zip"
      ],
      "metadata": {
        "id": "yxPIi2eSFm_H"
      },
      "execution_count": 2,
      "outputs": []
    },
    {
      "cell_type": "code",
      "source": [
        "import numpy as np\n",
        "import struct\n",
        "\n",
        "def read_idx(filename):\n",
        "    with open(filename, 'rb') as f:\n",
        "        zero, data_type, dims = struct.unpack('>HBB', f.read(4))\n",
        "        shape = tuple(struct.unpack('>I', f.read(4))[0] for d in range(dims))\n",
        "        return np.frombuffer(f.read(), dtype=np.uint8).reshape(shape)\n",
        "\n",
        "# Assuming the file is in the /content/mnist-dataset directory\n",
        "images = read_idx('/content/data/train-images-idx3-ubyte/train-images-idx3-ubyte')\n",
        "labels = read_idx('/content/data/train-labels-idx1-ubyte/train-labels-idx1-ubyte')\n",
        "\n",
        "print(images.shape)  # Print the shape of the image data\n",
        "print(labels.shape)  # Print the shape of the label datan"
      ],
      "metadata": {
        "colab": {
          "base_uri": "https://localhost:8080/"
        },
        "id": "luvYhkIQGXSJ",
        "outputId": "bcc1100c-c196-4935-f0a3-9f3e09b79227"
      },
      "execution_count": 43,
      "outputs": [
        {
          "output_type": "stream",
          "name": "stdout",
          "text": [
            "(60000, 28, 28)\n",
            "(60000,)\n"
          ]
        }
      ]
    },
    {
      "cell_type": "code",
      "source": [
        "idxInImage = [np.where(labels == i)[0] for i in range(10)]\n",
        "idxInImage"
      ],
      "metadata": {
        "colab": {
          "base_uri": "https://localhost:8080/"
        },
        "id": "LNtGPvbuIxPU",
        "outputId": "a2124ced-4456-4586-dd90-f9297f967c20"
      },
      "execution_count": 31,
      "outputs": [
        {
          "output_type": "execute_result",
          "data": {
            "text/plain": [
              "[array([    1,    21,    34, ..., 59952, 59972, 59987]),\n",
              " array([    3,     6,     8, ..., 59979, 59984, 59994]),\n",
              " array([    5,    16,    25, ..., 59983, 59985, 59991]),\n",
              " array([    7,    10,    12, ..., 59978, 59980, 59996]),\n",
              " array([    2,     9,    20, ..., 59943, 59951, 59975]),\n",
              " array([    0,    11,    35, ..., 59968, 59993, 59997]),\n",
              " array([   13,    18,    32, ..., 59982, 59986, 59998]),\n",
              " array([   15,    29,    38, ..., 59963, 59977, 59988]),\n",
              " array([   17,    31,    41, ..., 59989, 59995, 59999]),\n",
              " array([    4,    19,    22, ..., 59973, 59990, 59992])]"
            ]
          },
          "metadata": {},
          "execution_count": 31
        }
      ]
    },
    {
      "cell_type": "code",
      "source": [
        "class Neuron:\n",
        "    def __init__(self, pixelNum):\n",
        "        self.pixelNum = pixelNum\n",
        "        self.connections = defaultdict(int)"
      ],
      "metadata": {
        "id": "6CNyJMAXJTwN"
      },
      "execution_count": 33,
      "outputs": []
    },
    {
      "cell_type": "code",
      "source": [
        "neurons = [Neuron(i) for i in range(28*28)]"
      ],
      "metadata": {
        "id": "AdVrNsUxJdLk"
      },
      "execution_count": 34,
      "outputs": []
    },
    {
      "cell_type": "code",
      "source": [
        "# Set the pixel threshold\n",
        "pixelThreshold = 100\n",
        "\n",
        "# Get image dimensions (MNIST images are 28x28)\n",
        "image_height, image_width = images.shape[1], images.shape[2]\n",
        "\n",
        "# Find all pixel indices where the value > pixelThreshold\n",
        "image_idx, row_idx, col_idx = np.where(images > pixelThreshold)\n",
        "\n",
        "# Convert (row, col) to a single pixel index\n",
        "pixel_nums = row_idx * image_width + col_idx\n",
        "\n",
        "# Get unique image indices and where they appear\n",
        "unique_images, start_indices = np.unique(image_idx, return_index=True)\n",
        "\n",
        "# Split pixel numbers efficiently for each image\n",
        "image_pixel_lists = np.split(pixel_nums, start_indices[1:])\n",
        "\n",
        "# Create a dictionary mapping image index -> list of pixel numbers\n",
        "image_pixel_dict = dict(zip(unique_images, image_pixel_lists))\n",
        "\n",
        "# Print pixel numbers for the first few images\n",
        "for img_id in sorted(image_pixel_dict.keys())[:5]:  # Print for first 5 images\n",
        "    print(f\"Image {img_id}: {image_pixel_dict[img_id]}\")"
      ],
      "metadata": {
        "colab": {
          "base_uri": "https://localhost:8080/"
        },
        "id": "kmRnKoo4SkkE",
        "outputId": "9f1ddd1f-43df-4b4f-c055-f516cd53d683"
      },
      "execution_count": 61,
      "outputs": [
        {
          "output_type": "stream",
          "name": "stdout",
          "text": [
            "Image 0: [156 157 158 160 161 162 163 179 180 181 182 183 184 185 186 187 188 189\n",
            " 190 204 205 206 207 208 209 210 211 212 213 232 233 234 235 236 237 238\n",
            " 239 240 241 261 262 263 264 265 269 291 292 319 320 321 348 349 377 378\n",
            " 379 380 406 407 408 409 435 436 437 438 465 466 467 493 494 495 519 520\n",
            " 521 522 523 545 546 547 548 549 550 551 571 572 573 574 575 576 577 598\n",
            " 599 600 601 602 603 623 624 625 626 627 628 629 649 650 651 652 653 654\n",
            " 655 656 676 677 678 679 680 681 682]\n",
            "Image 1: [128 129 130 155 156 157 158 159 182 183 184 185 186 187 209 210 211 212\n",
            " 213 215 216 217 235 236 237 238 239 240 241 243 244 245 263 264 265 266\n",
            " 267 268 269 272 273 290 291 292 293 296 300 301 317 318 319 320 328 329\n",
            " 330 344 345 346 356 357 358 372 373 384 385 386 399 400 401 412 413 414\n",
            " 427 428 429 440 441 442 455 456 467 468 469 483 484 494 495 496 511 512\n",
            " 521 522 523 539 540 547 548 549 550 567 568 569 573 574 575 576 577 595\n",
            " 596 597 598 599 600 601 602 603 604 623 624 625 626 627 628 629 630 652\n",
            " 653 654 655 656]\n",
            "Image 2: [161 188 189 200 201 216 217 228 229 244 245 256 257 271 272 273 284 285\n",
            " 299 300 311 312 313 327 328 339 340 341 354 355 356 367 368 381 382 383\n",
            " 395 396 403 404 405 406 407 408 409 410 411 423 424 425 426 427 428 429\n",
            " 430 431 432 433 434 438 439 452 453 454 455 456 457 465 466 467 493 494\n",
            " 495 521 522 549 550 577 578 605 606 633 634 635 661 662 663 690 691]\n",
            "Image 3: [158 159 160 186 187 188 213 214 215 216 241 242 243 268 269 270 295 296\n",
            " 297 298 323 324 325 350 351 352 353 377 378 379 380 405 406 407 432 433\n",
            " 434 435 459 460 461 462 487 488 489 490 514 515 516 517 542 543 544 569\n",
            " 570 571 572 597 598 599 600 625 626 627 653 654 655 681 682 683]\n",
            "Image 4: [209 210 211 212 213 215 236 237 238 239 240 241 242 243 244 263 264 265\n",
            " 269 270 271 272 290 291 292 297 298 299 316 317 318 319 324 325 326 343\n",
            " 344 345 346 352 353 354 371 372 373 378 379 380 381 399 400 403 404 405\n",
            " 406 407 408 427 428 429 430 431 432 433 434 435 436 456 457 458 459 462\n",
            " 463 464 490 491 492 518 519 546 547 574 575 601 602 603 630 631 658 659\n",
            " 687 688 715 716 717 744 745]\n"
          ]
        }
      ]
    }
  ]
}