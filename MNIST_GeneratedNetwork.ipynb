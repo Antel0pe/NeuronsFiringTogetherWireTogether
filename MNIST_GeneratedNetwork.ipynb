{
  "nbformat": 4,
  "nbformat_minor": 0,
  "metadata": {
    "colab": {
      "provenance": []
    },
    "kernelspec": {
      "name": "python3",
      "display_name": "Python 3"
    },
    "language_info": {
      "name": "python"
    }
  },
  "cells": [
    {
      "cell_type": "code",
      "source": [
        "import numpy as np\n",
        "import kagglehub\n",
        "import os\n",
        "from collections import defaultdict\n",
        "from scipy.sparse import csr_matrix\n",
        "import matplotlib.pyplot as plt"
      ],
      "metadata": {
        "id": "q4CImaPlEa5-"
      },
      "execution_count": 45,
      "outputs": []
    },
    {
      "cell_type": "code",
      "source": [
        "if not os.path.exists(\"/content/data\"):\n",
        "  !kaggle datasets download -d hojjatk/mnist-dataset -p /content\n",
        "  !unzip /content/mnist-dataset.zip -d /content/data\n",
        "  !rm /content/mnist-dataset.zip"
      ],
      "metadata": {
        "id": "yxPIi2eSFm_H",
        "colab": {
          "base_uri": "https://localhost:8080/"
        },
        "outputId": "752d825e-4b1a-41f9-c093-54dc5ce18f26"
      },
      "execution_count": 2,
      "outputs": [
        {
          "output_type": "stream",
          "name": "stdout",
          "text": [
            "Dataset URL: https://www.kaggle.com/datasets/hojjatk/mnist-dataset\n",
            "License(s): copyright-authors\n",
            "Downloading mnist-dataset.zip to /content\n",
            " 95% 21.0M/22.0M [00:00<00:00, 57.6MB/s]\n",
            "100% 22.0M/22.0M [00:00<00:00, 50.8MB/s]\n",
            "Archive:  /content/mnist-dataset.zip\n",
            "  inflating: /content/data/t10k-images-idx3-ubyte/t10k-images-idx3-ubyte  \n",
            "  inflating: /content/data/t10k-images.idx3-ubyte  \n",
            "  inflating: /content/data/t10k-labels-idx1-ubyte/t10k-labels-idx1-ubyte  \n",
            "  inflating: /content/data/t10k-labels.idx1-ubyte  \n",
            "  inflating: /content/data/train-images-idx3-ubyte/train-images-idx3-ubyte  \n",
            "  inflating: /content/data/train-images.idx3-ubyte  \n",
            "  inflating: /content/data/train-labels-idx1-ubyte/train-labels-idx1-ubyte  \n",
            "  inflating: /content/data/train-labels.idx1-ubyte  \n"
          ]
        }
      ]
    },
    {
      "cell_type": "code",
      "source": [
        "import numpy as np\n",
        "import struct\n",
        "\n",
        "def read_idx(filename):\n",
        "    with open(filename, 'rb') as f:\n",
        "        zero, data_type, dims = struct.unpack('>HBB', f.read(4))\n",
        "        shape = tuple(struct.unpack('>I', f.read(4))[0] for d in range(dims))\n",
        "        return np.frombuffer(f.read(), dtype=np.uint8).reshape(shape)\n",
        "\n",
        "# Assuming the file is in the /content/mnist-dataset directory\n",
        "images = read_idx('/content/data/train-images-idx3-ubyte/train-images-idx3-ubyte')\n",
        "labels = read_idx('/content/data/train-labels-idx1-ubyte/train-labels-idx1-ubyte')\n",
        "\n",
        "print(images.shape)  # Print the shape of the image data\n",
        "print(labels.shape)  # Print the shape of the label datan"
      ],
      "metadata": {
        "colab": {
          "base_uri": "https://localhost:8080/"
        },
        "id": "luvYhkIQGXSJ",
        "outputId": "fa1dec84-92e0-47b5-c07a-c9e11c6c6ec0"
      },
      "execution_count": 3,
      "outputs": [
        {
          "output_type": "stream",
          "name": "stdout",
          "text": [
            "(60000, 28, 28)\n",
            "(60000,)\n"
          ]
        }
      ]
    },
    {
      "cell_type": "code",
      "source": [
        "num_pixels = 28 * 28  # Total number of pixels in MNIST images\n",
        "num_images = images.shape[0]\n",
        "pixelThreshold = 100\n",
        "\n",
        "# Find all pixel indices where value > pixelThreshold\n",
        "image_idx, row_idx, col_idx = np.where(images > pixelThreshold)\n",
        "\n",
        "# Convert (row, col) to a 1D pixel index\n",
        "pixel_nums = row_idx * 28 + col_idx\n",
        "\n",
        "# Create a sparse binary activation matrix\n",
        "# shape = 28*28 pixels for each image\n",
        "# initialize with 1 for where pixels are above threshold\n",
        "# np.ones(len(image_idx)) - make an array of 1 for each pixel above threshold\n",
        "# place 1s from ^ in these row,col indices (image_idx, pixel_nums)\n",
        "activation_matrix = csr_matrix(\n",
        "    (np.ones(len(image_idx), dtype=np.uint16), (image_idx, pixel_nums)),\n",
        "    shape=(num_images, num_pixels)\n",
        ")\n",
        "\n",
        "assert np.all((activation_matrix.data == 0) | (activation_matrix.data == 1)), \"Matrix contains invalid values!\"\n",
        "\n",
        "# matrix of numPixels by numPixels - shows how often pixel i was activated with pixel j\n",
        "co_occurrence_matrix = activation_matrix.T @ activation_matrix\n",
        "co_occurrence_matrix = co_occurrence_matrix.astype(np.uint16)\n",
        "\n",
        "# Convert to CSR format for efficient lookups\n",
        "co_occurrence_matrix = co_occurrence_matrix.tocsr()"
      ],
      "metadata": {
        "id": "75kvArKpUBxk"
      },
      "execution_count": 30,
      "outputs": []
    },
    {
      "cell_type": "code",
      "source": [
        "num_pixels = 28 * 28  # Total number of pixels in MNIST images\n",
        "num_images = images.shape[0]\n",
        "pixelThreshold = 100\n",
        "\n",
        "# Find all pixel indices where value > pixelThreshold\n",
        "image_idx, row_idx, col_idx = np.where(images > pixelThreshold)\n",
        "\n",
        "# Convert (row, col) to a 1D pixel index\n",
        "pixel_nums = row_idx * 28 + col_idx\n",
        "\n",
        "# Create a sparse binary activation matrix\n",
        "activation_matrix = csr_matrix(\n",
        "    (np.ones(len(image_idx), dtype=np.uint16), (image_idx, pixel_nums)),\n",
        "    shape=(num_images, num_pixels)\n",
        ")\n",
        "\n",
        "assert np.all((activation_matrix.data == 0) | (activation_matrix.data == 1)), \"Matrix contains invalid values!\"\n",
        "\n",
        "# Get unique labels\n",
        "unique_labels = np.unique(labels)\n",
        "\n",
        "# Dictionary to store co-occurrence matrices for each label\n",
        "label_co_occurrence_matrices = {}\n",
        "\n",
        "# Compute co-occurrence matrix for each label separately\n",
        "for label in unique_labels:\n",
        "    # Select images that belong to this label\n",
        "    label_indices = np.where(labels == label)[0]\n",
        "\n",
        "    # Subset activation matrix for these images only\n",
        "    label_activation_matrix = activation_matrix[label_indices]\n",
        "\n",
        "    # Compute co-occurrence matrix for this label\n",
        "    label_co_occurrence_matrix = label_activation_matrix.T @ label_activation_matrix\n",
        "    label_co_occurrence_matrix = label_co_occurrence_matrix.astype(np.uint16).tocsr()\n",
        "\n",
        "    # Store in dictionary\n",
        "    label_co_occurrence_matrices[label] = label_co_occurrence_matrix"
      ],
      "metadata": {
        "colab": {
          "base_uri": "https://localhost:8080/"
        },
        "id": "f3HUmPAhIb2V",
        "outputId": "8eb5ca96-f55d-4978-e673-8c3403838842"
      },
      "execution_count": 50,
      "outputs": [
        {
          "output_type": "stream",
          "name": "stdout",
          "text": [
            "Co-occurrence matrix for label 0 shape: (784, 784)\n"
          ]
        }
      ]
    },
    {
      "cell_type": "markdown",
      "source": [
        "Hypothesis: I would expect that in a co-occurrence matrix for ALL images - the highest co-occurring pixels would be those around the center? since most numbers seem to go towards the center?\n",
        "\n",
        "Result: Yes center is common but the top center and bottom center seem to have the highest concentration of pixels commonly occuring with other pixels"
      ],
      "metadata": {
        "id": "WRfkLNgMs_al"
      }
    },
    {
      "cell_type": "code",
      "source": [
        "pixel_connections = co_occurrence_matrix.sum(axis=1)\n",
        "# Convert 1D pixel scores to a 28x28 image\n",
        "connection_heatmap = pixel_connections.reshape(28, 28)\n",
        "\n",
        "# Plot the heatmap\n",
        "plt.figure(figsize=(6,6))\n",
        "plt.imshow(connection_heatmap, cmap='hot', interpolation='nearest')\n",
        "plt.colorbar(label=\"Total Connections\")\n",
        "plt.title(\"Most Connected Pixels in MNIST\")\n",
        "plt.show()\n"
      ],
      "metadata": {
        "colab": {
          "base_uri": "https://localhost:8080/",
          "height": 522
        },
        "id": "EHe6j-RjuJk7",
        "outputId": "e4c927c9-d4c7-4623-f0a8-65673772ef35"
      },
      "execution_count": 46,
      "outputs": [
        {
          "output_type": "display_data",
          "data": {
            "text/plain": [
              "<Figure size 600x600 with 2 Axes>"
            ],
            "image/png": "[encoded data removed]"
          },
          "metadata": {}
        }
      ]
    }
  ]
}