{
  "nbformat": 4,
  "nbformat_minor": 0,
  "metadata": {
    "colab": {
      "provenance": []
    },
    "kernelspec": {
      "name": "python3",
      "display_name": "Python 3"
    },
    "language_info": {
      "name": "python"
    }
  },
  "cells": [
    {
      "cell_type": "code",
      "source": [
        "import numpy as np\n",
        "import kagglehub\n",
        "import os\n",
        "from collections import defaultdict\n",
        "from scipy.sparse import csr_matrix"
      ],
      "metadata": {
        "id": "q4CImaPlEa5-"
      },
      "execution_count": 59,
      "outputs": []
    },
    {
      "cell_type": "code",
      "source": [
        "if not os.path.exists(\"/content/data\"):\n",
        "  !kaggle datasets download -d hojjatk/mnist-dataset -p /content\n",
        "  !unzip /content/mnist-dataset.zip -d /content/data\n",
        "  !rm /content/mnist-dataset.zip"
      ],
      "metadata": {
        "id": "yxPIi2eSFm_H",
        "colab": {
          "base_uri": "https://localhost:8080/"
        },
        "outputId": "2f37ff13-f78e-496e-94ec-fc1222d20539"
      },
      "execution_count": 2,
      "outputs": [
        {
          "output_type": "stream",
          "name": "stdout",
          "text": [
            "Dataset URL: https://www.kaggle.com/datasets/hojjatk/mnist-dataset\n",
            "License(s): copyright-authors\n",
            "Downloading mnist-dataset.zip to /content\n",
            " 91% 20.0M/22.0M [00:01<00:00, 19.6MB/s]\n",
            "100% 22.0M/22.0M [00:01<00:00, 12.9MB/s]\n",
            "Archive:  /content/mnist-dataset.zip\n",
            "  inflating: /content/data/t10k-images-idx3-ubyte/t10k-images-idx3-ubyte  \n",
            "  inflating: /content/data/t10k-images.idx3-ubyte  \n",
            "  inflating: /content/data/t10k-labels-idx1-ubyte/t10k-labels-idx1-ubyte  \n",
            "  inflating: /content/data/t10k-labels.idx1-ubyte  \n",
            "  inflating: /content/data/train-images-idx3-ubyte/train-images-idx3-ubyte  \n",
            "  inflating: /content/data/train-images.idx3-ubyte  \n",
            "  inflating: /content/data/train-labels-idx1-ubyte/train-labels-idx1-ubyte  \n",
            "  inflating: /content/data/train-labels.idx1-ubyte  \n"
          ]
        }
      ]
    },
    {
      "cell_type": "code",
      "source": [
        "import numpy as np\n",
        "import struct\n",
        "\n",
        "def read_idx(filename):\n",
        "    with open(filename, 'rb') as f:\n",
        "        zero, data_type, dims = struct.unpack('>HBB', f.read(4))\n",
        "        shape = tuple(struct.unpack('>I', f.read(4))[0] for d in range(dims))\n",
        "        return np.frombuffer(f.read(), dtype=np.uint8).reshape(shape)\n",
        "\n",
        "# Assuming the file is in the /content/mnist-dataset directory\n",
        "images = read_idx('/content/data/train-images-idx3-ubyte/train-images-idx3-ubyte')\n",
        "labels = read_idx('/content/data/train-labels-idx1-ubyte/train-labels-idx1-ubyte')\n",
        "\n",
        "print(images.shape)  # Print the shape of the image data\n",
        "print(labels.shape)  # Print the shape of the label datan"
      ],
      "metadata": {
        "colab": {
          "base_uri": "https://localhost:8080/"
        },
        "id": "luvYhkIQGXSJ",
        "outputId": "3473ccc3-8b5f-4d1b-b69d-50342f9b3e30"
      },
      "execution_count": 3,
      "outputs": [
        {
          "output_type": "stream",
          "name": "stdout",
          "text": [
            "(60000, 28, 28)\n",
            "(60000,)\n"
          ]
        }
      ]
    },
    {
      "cell_type": "code",
      "source": [
        "idxInImage = [np.where(labels == i)[0] for i in range(10)]\n",
        "idxInImage"
      ],
      "metadata": {
        "colab": {
          "base_uri": "https://localhost:8080/"
        },
        "id": "LNtGPvbuIxPU",
        "outputId": "27c96207-ecf7-4925-a6cf-df85c88b96f7"
      },
      "execution_count": 4,
      "outputs": [
        {
          "output_type": "execute_result",
          "data": {
            "text/plain": [
              "[array([    1,    21,    34, ..., 59952, 59972, 59987]),\n",
              " array([    3,     6,     8, ..., 59979, 59984, 59994]),\n",
              " array([    5,    16,    25, ..., 59983, 59985, 59991]),\n",
              " array([    7,    10,    12, ..., 59978, 59980, 59996]),\n",
              " array([    2,     9,    20, ..., 59943, 59951, 59975]),\n",
              " array([    0,    11,    35, ..., 59968, 59993, 59997]),\n",
              " array([   13,    18,    32, ..., 59982, 59986, 59998]),\n",
              " array([   15,    29,    38, ..., 59963, 59977, 59988]),\n",
              " array([   17,    31,    41, ..., 59989, 59995, 59999]),\n",
              " array([    4,    19,    22, ..., 59973, 59990, 59992])]"
            ]
          },
          "metadata": {},
          "execution_count": 4
        }
      ]
    },
    {
      "cell_type": "code",
      "source": [
        "class Neuron:\n",
        "    def __init__(self, pixelNum):\n",
        "        self.pixelNum = pixelNum\n",
        "        self.connections = defaultdict(int)"
      ],
      "metadata": {
        "id": "6CNyJMAXJTwN"
      },
      "execution_count": 5,
      "outputs": []
    },
    {
      "cell_type": "code",
      "source": [
        "neurons = [Neuron(i) for i in range(28*28)]"
      ],
      "metadata": {
        "id": "AdVrNsUxJdLk"
      },
      "execution_count": 6,
      "outputs": []
    },
    {
      "cell_type": "code",
      "source": [
        "num_pixels = images.shape[1] * images.shape[2]  # Total number of neurons (one per pixel)\n",
        "connection_matrix = np.zeros((num_pixels, num_pixels), dtype=np.int32)  # Efficient storage"
      ],
      "metadata": {
        "id": "y0X44sT6TEwH"
      },
      "execution_count": 56,
      "outputs": []
    },
    {
      "cell_type": "code",
      "source": [
        "# Set the pixel threshold\n",
        "pixelThreshold = 100\n",
        "\n",
        "# Get image dimensions (MNIST images are 28x28)\n",
        "image_height, image_width = images.shape[1], images.shape[2]\n",
        "\n",
        "# Find all pixel indices where the value > pixelThreshold\n",
        "image_idx, row_idx, col_idx = np.where(images > pixelThreshold)\n",
        "\n",
        "# Convert (row, col) to a single pixel index\n",
        "pixel_nums = row_idx * image_width + col_idx\n",
        "\n",
        "# Get unique image indices and where they appear\n",
        "unique_images, start_indices = np.unique(image_idx, return_index=True)\n",
        "\n",
        "# Split pixel numbers efficiently for each image\n",
        "image_pixel_lists = np.split(pixel_nums, start_indices[1:])\n",
        "\n",
        "# Create a dictionary mapping image index -> list of pixel numbers\n",
        "image_pixel_dict = dict(zip(unique_images, image_pixel_lists))\n",
        "\n",
        "# Print pixel numbers for the first few images\n",
        "for img_id in sorted(image_pixel_dict.keys())[:5]:  # Print for first 5 images\n",
        "    print(f\"Image {img_id}: {image_pixel_dict[img_id]}\")"
      ],
      "metadata": {
        "colab": {
          "base_uri": "https://localhost:8080/"
        },
        "id": "kmRnKoo4SkkE",
        "outputId": "84d6e33f-31ce-4fc4-d7f0-00e0bf23ae72"
      },
      "execution_count": 7,
      "outputs": [
        {
          "output_type": "stream",
          "name": "stdout",
          "text": [
            "Image 0: [156 157 158 160 161 162 163 179 180 181 182 183 184 185 186 187 188 189\n",
            " 190 204 205 206 207 208 209 210 211 212 213 232 233 234 235 236 237 238\n",
            " 239 240 241 261 262 263 264 265 269 291 292 319 320 321 348 349 377 378\n",
            " 379 380 406 407 408 409 435 436 437 438 465 466 467 493 494 495 519 520\n",
            " 521 522 523 545 546 547 548 549 550 551 571 572 573 574 575 576 577 598\n",
            " 599 600 601 602 603 623 624 625 626 627 628 629 649 650 651 652 653 654\n",
            " 655 656 676 677 678 679 680 681 682]\n",
            "Image 1: [128 129 130 155 156 157 158 159 182 183 184 185 186 187 209 210 211 212\n",
            " 213 215 216 217 235 236 237 238 239 240 241 243 244 245 263 264 265 266\n",
            " 267 268 269 272 273 290 291 292 293 296 300 301 317 318 319 320 328 329\n",
            " 330 344 345 346 356 357 358 372 373 384 385 386 399 400 401 412 413 414\n",
            " 427 428 429 440 441 442 455 456 467 468 469 483 484 494 495 496 511 512\n",
            " 521 522 523 539 540 547 548 549 550 567 568 569 573 574 575 576 577 595\n",
            " 596 597 598 599 600 601 602 603 604 623 624 625 626 627 628 629 630 652\n",
            " 653 654 655 656]\n",
            "Image 2: [161 188 189 200 201 216 217 228 229 244 245 256 257 271 272 273 284 285\n",
            " 299 300 311 312 313 327 328 339 340 341 354 355 356 367 368 381 382 383\n",
            " 395 396 403 404 405 406 407 408 409 410 411 423 424 425 426 427 428 429\n",
            " 430 431 432 433 434 438 439 452 453 454 455 456 457 465 466 467 493 494\n",
            " 495 521 522 549 550 577 578 605 606 633 634 635 661 662 663 690 691]\n",
            "Image 3: [158 159 160 186 187 188 213 214 215 216 241 242 243 268 269 270 295 296\n",
            " 297 298 323 324 325 350 351 352 353 377 378 379 380 405 406 407 432 433\n",
            " 434 435 459 460 461 462 487 488 489 490 514 515 516 517 542 543 544 569\n",
            " 570 571 572 597 598 599 600 625 626 627 653 654 655 681 682 683]\n",
            "Image 4: [209 210 211 212 213 215 236 237 238 239 240 241 242 243 244 263 264 265\n",
            " 269 270 271 272 290 291 292 297 298 299 316 317 318 319 324 325 326 343\n",
            " 344 345 346 352 353 354 371 372 373 378 379 380 381 399 400 403 404 405\n",
            " 406 407 408 427 428 429 430 431 432 433 434 435 436 456 457 458 459 462\n",
            " 463 464 490 491 492 518 519 546 547 574 575 601 602 603 630 631 658 659\n",
            " 687 688 715 716 717 744 745]\n"
          ]
        }
      ]
    },
    {
      "cell_type": "code",
      "source": [
        "# Iterate through images and update neuron connections\n",
        "for img_id, pixels in zip(unique_images, image_pixel_lists):\n",
        "    # Each pixel in the image is connected to every other pixel in that image\n",
        "    for i in range(len(pixels)):\n",
        "        for j in range(i + 1, len(pixels)):  # Avoid redundant loops\n",
        "            p1, p2 = pixels[i], pixels[j]\n",
        "            neurons[p1].connections[p2] += 1\n",
        "            neurons[p2].connections[p1] += 1  # Since connections are bidirectional\n",
        "\n",
        "\n",
        "# Print sample neuron connections (e.g., first 5 neurons)\n",
        "for i in range(5):\n",
        "    print(f\"Neuron {i} connections: {dict(neurons[i].connections)}\")"
      ],
      "metadata": {
        "colab": {
          "base_uri": "https://localhost:8080/",
          "height": 214
        },
        "id": "IoGGsQPXOasN",
        "outputId": "bdd0b9ab-1ae8-41cd-d8a6-0457fac5dadf"
      },
      "execution_count": 8,
      "outputs": [
        {
          "output_type": "error",
          "ename": "KeyboardInterrupt",
          "evalue": "",
          "traceback": [
            "\u001b[0;31m---------------------------------------------------------------------------\u001b[0m",
            "\u001b[0;31mKeyboardInterrupt\u001b[0m                         Traceback (most recent call last)",
            "\u001b[0;32m<ipython-input-8-fdce32a0020c>\u001b[0m in \u001b[0;36m<cell line: 0>\u001b[0;34m()\u001b[0m\n\u001b[1;32m      6\u001b[0m             \u001b[0mp1\u001b[0m\u001b[0;34m,\u001b[0m \u001b[0mp2\u001b[0m \u001b[0;34m=\u001b[0m \u001b[0mpixels\u001b[0m\u001b[0;34m[\u001b[0m\u001b[0mi\u001b[0m\u001b[0;34m]\u001b[0m\u001b[0;34m,\u001b[0m \u001b[0mpixels\u001b[0m\u001b[0;34m[\u001b[0m\u001b[0mj\u001b[0m\u001b[0;34m]\u001b[0m\u001b[0;34m\u001b[0m\u001b[0;34m\u001b[0m\u001b[0m\n\u001b[1;32m      7\u001b[0m             \u001b[0mneurons\u001b[0m\u001b[0;34m[\u001b[0m\u001b[0mp1\u001b[0m\u001b[0;34m]\u001b[0m\u001b[0;34m.\u001b[0m\u001b[0mconnections\u001b[0m\u001b[0;34m[\u001b[0m\u001b[0mp2\u001b[0m\u001b[0;34m]\u001b[0m \u001b[0;34m+=\u001b[0m \u001b[0;36m1\u001b[0m\u001b[0;34m\u001b[0m\u001b[0;34m\u001b[0m\u001b[0m\n\u001b[0;32m----> 8\u001b[0;31m             \u001b[0mneurons\u001b[0m\u001b[0;34m[\u001b[0m\u001b[0mp2\u001b[0m\u001b[0;34m]\u001b[0m\u001b[0;34m.\u001b[0m\u001b[0mconnections\u001b[0m\u001b[0;34m[\u001b[0m\u001b[0mp1\u001b[0m\u001b[0;34m]\u001b[0m \u001b[0;34m+=\u001b[0m \u001b[0;36m1\u001b[0m  \u001b[0;31m# Since connections are bidirectional\u001b[0m\u001b[0;34m\u001b[0m\u001b[0;34m\u001b[0m\u001b[0m\n\u001b[0m\u001b[1;32m      9\u001b[0m \u001b[0;34m\u001b[0m\u001b[0m\n\u001b[1;32m     10\u001b[0m \u001b[0;34m\u001b[0m\u001b[0m\n",
            "\u001b[0;31mKeyboardInterrupt\u001b[0m: "
          ]
        }
      ]
    },
    {
      "cell_type": "code",
      "source": [
        "# Iterate through images and update connections efficiently\n",
        "for img_id, pixels in zip(unique_images, image_pixel_lists):\n",
        "    # Create all pairwise pixel connections (avoid looping manually)\n",
        "    pixel_combinations = np.array(np.meshgrid(pixels, pixels)).T.reshape(-1, 2)\n",
        "\n",
        "    # Remove self-connections\n",
        "    pixel_combinations = pixel_combinations[pixel_combinations[:, 0] != pixel_combinations[:, 1]]\n",
        "\n",
        "    # Get row and column indices for batch updates\n",
        "    row_indices = pixel_combinations[:, 0]\n",
        "    col_indices = pixel_combinations[:, 1]\n",
        "\n",
        "    # Use NumPy's advanced indexing to increment values in bulk\n",
        "    np.add.at(connection_matrix, (row_indices, col_indices), 1)  # Vectorized update"
      ],
      "metadata": {
        "id": "6Kg8BM8RPEBo"
      },
      "execution_count": 57,
      "outputs": []
    },
    {
      "cell_type": "code",
      "source": [
        "np.array(np.meshgrid(pixels, pixels)).T.reshape(-1, 2)"
      ],
      "metadata": {
        "colab": {
          "base_uri": "https://localhost:8080/"
        },
        "id": "qDmFAL6-SKcf",
        "outputId": "ccad67d3-0aa8-4b62-f24c-ad6331e8718d"
      },
      "execution_count": 53,
      "outputs": [
        {
          "output_type": "execute_result",
          "data": {
            "text/plain": [
              "array([[ 71,  71],\n",
              "       [ 71,  72],\n",
              "       [ 71,  73],\n",
              "       ...,\n",
              "       [606, 604],\n",
              "       [606, 605],\n",
              "       [606, 606]])"
            ]
          },
          "metadata": {},
          "execution_count": 53
        }
      ]
    },
    {
      "cell_type": "code",
      "source": [
        "num_pixels = 28 * 28  # Total number of pixels in MNIST images\n",
        "num_images = images.shape[0]\n",
        "\n",
        "# Find all pixel indices where value > pixelThreshold\n",
        "image_idx, row_idx, col_idx = np.where(images > pixelThreshold)\n",
        "\n",
        "# Convert (row, col) to a 1D pixel index\n",
        "pixel_nums = row_idx * 28 + col_idx\n",
        "\n",
        "# Create a sparse binary activation matrix\n",
        "# - Rows represent images\n",
        "# - Columns represent pixels\n",
        "# - A 1 in position (i, j) means pixel `j` is active in image `i`\n",
        "activation_matrix = csr_matrix(\n",
        "    (np.ones(len(image_idx), dtype=np.int8), (image_idx, pixel_nums)),\n",
        "    shape=(num_images, num_pixels)\n",
        ")\n",
        "\n",
        "# Compute co-occurrence matrix using matrix multiplication\n",
        "co_occurrence_matrix = activation_matrix.T @ activation_matrix\n",
        "\n",
        "# Convert to CSR format for efficient lookups\n",
        "co_occurrence_matrix = co_occurrence_matrix.tocsr()"
      ],
      "metadata": {
        "id": "75kvArKpUBxk"
      },
      "execution_count": 60,
      "outputs": []
    },
    {
      "cell_type": "code",
      "source": [
        "co_occurrence_matrix.toarray()[131]"
      ],
      "metadata": {
        "colab": {
          "base_uri": "https://localhost:8080/"
        },
        "id": "cTBA-B3PUTq7",
        "outputId": "c4022daf-b5d0-4049-8a0a-3478bd0ee2df"
      },
      "execution_count": 69,
      "outputs": [
        {
          "output_type": "execute_result",
          "data": {
            "text/plain": [
              "array([   0,    0,    0,    0,    0,    0,    0,    0,    0,    0,    0,\n",
              "          0,    0,    0,    0,    0,    0,    0,    0,    0,    0,    0,\n",
              "          0,    0,    0,    0,    0,    0,    0,    0,    0,    0,    0,\n",
              "          0,    0,    0,    0,    0,    0,    0,    0,    0,    0,    0,\n",
              "          0,    0,    1,    8,    8,    2,    2,    0,    0,    0,    0,\n",
              "          0,    0,    0,    0,    0,    0,    0,    0,    0,    0,    0,\n",
              "          0,    0,    1,    8,   21,   33,   43,   75,  -56,   66,   22,\n",
              "       -106,   59,   16,    4,    1,    0,    0,    0,    0,    0,    0,\n",
              "          0,    0,    0,    2,    2,    6,   14,   33,   73, -106,   22,\n",
              "        -87,  -89,   99,   12,    5,   22,  -15,  -64,   50,   11,    2,\n",
              "          0,    0,    0,    0,    0,    0,    2,    4,    2,   11,   27,\n",
              "         43,  104,  -16,  -71,  -43,  120,  -10,  102,  -37,  -68, -121,\n",
              "        -56,  -86,   -1, -111,   36,    7,    0,    0,    0,    0,    0,\n",
              "          1,    4,    9,   14,   29,   75,  -85,   98, -112,   30,  102,\n",
              "         50,   47, -107,  -42,  118,  -18, -103,  -10,   -8,  -31,   46,\n",
              "          9,    0,    0,    0,    0,    0,    1,    8,   20,   35,   73,\n",
              "        -86,  103, -106,  108,  -79,  101,  -11,   66,  -34,    7,  -71,\n",
              "        -94,   87,   49, -105,  -22,   29,    5,    0,    0,    0,    0,\n",
              "          0,    1,    6,   19,   47,  115,   18,   37,  -72,   -7,   84,\n",
              "        -89,  115,    5,  -37,  -79,   93,   52,  -82,  119,  -30,   14,\n",
              "         27,    1,    0,    0,    0,    0,    0,    2,    6,   18,   57,\n",
              "        -93,   84,  -58,  -92,  -24,   70,  -10,  106, -125,   -9,   76,\n",
              "        -50,   -6,   -2,  -34,  -27,   49,   40,    4,    0,    0,    0,\n",
              "          0,    0,    1,    5,   21,   78,  -54,  -35, -114,  -29,   57,\n",
              "        -25, -118, -123,  -97,  -15,  -31,   -5,  -78,  -13,   38,  -78,\n",
              "         83,   48,    2,    0,    0,    0,    0,    0,    2,    8,   27,\n",
              "        105,   35, -127, -114,   70,   98, -118,  -60,   73,  -52,   61,\n",
              "         24,   92,  -30,   32,  121,   87,   77,   58,    0,    0,    0,\n",
              "          0,    0,    1,    3,   11,   37, -114,  -94,  105,   51,  -59,\n",
              "        125,  -99,   97, -123,  -35,   80,   -2,   15,   90, -124,  -17,\n",
              "         -4,   59,   65,    0,    0,    0,    0,    1,    1,    4,   11,\n",
              "         50,  -35,   98,  -85, -123,    7,    6,  114, -110,  105,   54,\n",
              "         49,  -94,  106, -126,   84, -102,  -56,   44,   68,    0,    0,\n",
              "          0,    0,    1,    1,    3,   17,  107,  121,  119,   10,  -48,\n",
              "        -54,  -57,   38,   70, -107,   95,  -37,  -98,  -89,   98,  -87,\n",
              "        -72,  -70,   43,   67,    0,    0,    0,    0,    1,    1,    6,\n",
              "         36,  -56,   88,  -63,   94,  -46,  -94,   86,  109,   94,   28,\n",
              "         32,   62,   96,  -38,  118,  124,   37,  -55,   38,   60,    0,\n",
              "          0,    0,    0,    0,    3,   17,  101, -107,  -75,   77,  -53,\n",
              "         95,  -57, -115, -115,  104,   26,  -19, -115,   77,   41,   66,\n",
              "         23,   87,  -36,   13,   48,    0,    0,    0,    0,    0,    3,\n",
              "         44,  -29,  -82,   72,  -25,  -12,  -18,  -33,   73,   64, -112,\n",
              "         89,  -48,   30,  -88,  107,  119,   74,   20, -112,  -33,   44,\n",
              "          4,    0,    0,    0,    2,    7,  102,  -91,   -6,  -61,   55,\n",
              "         90,  -53,    8,  -61,  -30, -115, -127,   69,  -69,   81,  -50,\n",
              "        -70,  -33, -112,   22,  -84,   45,    8,    0,    0,    0,    1,\n",
              "         10,  -84, -124,   52,  -65,  -33, -103,    9,  -67,  -29,  112,\n",
              "       -102, -103,   20,  111,  -63,  -87,   88,  -26,  -87,  -73,  -93,\n",
              "         42,    7,    0,    0,    0,    1,   25,  -24,   43,   13, -100,\n",
              "       -105,  -99,  -92,  -95,   27, -118, -124,   46,   88, -117,  -48,\n",
              "         52,   20, -103,   18, -109, -106,   42,    9,    1,    0,    0,\n",
              "          0,   34,   -6,   59,   37,   20,  108, -117,  126,  118,   50,\n",
              "         52,    5,  -57,   57,    2,  108,  -54,  -41,   70,  107,   38,\n",
              "        109,   38,    7,    0,    0,    0,    0,   23,  -69, -125,   74,\n",
              "        119,  109,  118,  -57,   70,   84,   39,  -81,  -86,   95,  102,\n",
              "        -45,   90,   89,  -71, -122,  -60,   70,   20,    1,    0,    0,\n",
              "          0,    0,   10,   90,   88,   98,   12,   13,   28,   20,   77,\n",
              "         51,   60,  -26,   22,  -15, -101, -103,   48,    2,   60,  -65,\n",
              "         85,   32,    4,    0,    1,    0,    0,    0,    2,   20,   81,\n",
              "         18,   42,   78,  -43, -106,   84,  -91,   90,    4, -112,   39,\n",
              "         43,   75,  -35, -117,   75,   40,   20,    6,    4,    1,    0,\n",
              "          0,    0,    0,    0,    0,    0,    0,    0,    0,    0,    0,\n",
              "          0,    0,    0,    0,    0,    0,    0,    0,    0,    0,    0,\n",
              "          0,    0,    0,    0,    0,    0,    0,    0,    0,    0,    0,\n",
              "          0,    0,    0,    0,    0,    0,    0,    0,    0,    0,    0,\n",
              "          0,    0,    0,    0,    0,    0,    0,    0,    0,    0,    0,\n",
              "          0,    0,    0,    0,    0,    0,    0,    0,    0,    0,    0,\n",
              "          0,    0,    0,    0,    0,    0,    0,    0,    0,    0,    0,\n",
              "          0,    0,    0,    0,    0,    0,    0,    0,    0,    0,    0,\n",
              "          0,    0,    0,    0,    0,    0,    0,    0,    0,    0,    0,\n",
              "          0,    0,    0,    0,    0,    0,    0,    0,    0,    0,    0,\n",
              "          0,    0,    0], dtype=int8)"
            ]
          },
          "metadata": {},
          "execution_count": 69
        }
      ]
    }
  ]
}