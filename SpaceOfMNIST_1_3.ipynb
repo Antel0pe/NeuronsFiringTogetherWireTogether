{
  "nbformat": 4,
  "nbformat_minor": 0,
  "metadata": {
    "colab": {
      "provenance": []
    },
    "kernelspec": {
      "name": "python3",
      "display_name": "Python 3"
    },
    "language_info": {
      "name": "python"
    }
  },
  "cells": [
    {
      "cell_type": "code",
      "execution_count": 37,
      "metadata": {
        "colab": {
          "base_uri": "https://localhost:8080/"
        },
        "id": "TJ0kSdmm4--I",
        "outputId": "519c97df-d8fc-46f6-8980-43efc7847c9f"
      },
      "outputs": [
        {
          "output_type": "stream",
          "name": "stdout",
          "text": [
            "✨🍰✨ Everything looks OK!\n"
          ]
        }
      ],
      "source": [
        "!pip install -q condacolab\n",
        "import condacolab\n",
        "condacolab.install()\n",
        "# Install all your required packages here using mamba\n",
        "!mamba install -q scikit-learn graph-tool"
      ]
    },
    {
      "cell_type": "code",
      "source": [
        "import torch\n",
        "from torch.utils.data import Subset\n",
        "import torchvision\n",
        "from torchvision import transforms\n",
        "import matplotlib.pyplot as plt\n",
        "\n",
        "# Define the transformation pipeline:\n",
        "transform = transforms.Compose([\n",
        "    transforms.ToTensor(),\n",
        "    transforms.Lambda(lambda x: (x > 0.5).float()),  # Binarize the image\n",
        "    transforms.Lambda(lambda x: x.view(-1))           # Flatten into a 784-dim vector\n",
        "])\n",
        "\n",
        "# Load the training set (set download=True if running for the first time)\n",
        "mnist_train = torchvision.datasets.MNIST(root='./data', train=True, download=True, transform=transform)\n",
        "\n",
        "# Get indices for images where the label is 1\n",
        "indices = (mnist_train.targets == 1).nonzero().squeeze()\n",
        "\n",
        "# Create a subset containing only the '1's\n",
        "mnist_train_ones = Subset(mnist_train, indices)\n",
        "\n",
        "print(f\"Total number of '1' images in the training set: {len(mnist_train_ones)}\")\n",
        "\n",
        "# Stack all 784-dim vectors from the filtered dataset\n",
        "all_vectors = torch.stack([img for img, _ in mnist_train_ones])\n",
        "unique_vectors = torch.unique(all_vectors, dim=0)\n",
        "\n",
        "print(f\"Total images in mnist_train_ones: {all_vectors.shape[0]}\")\n",
        "print(f\"Unique images: {unique_vectors.shape[0]}\")\n",
        "\n",
        "if all_vectors.shape[0] == unique_vectors.shape[0]:\n",
        "    print(\"All 784-dimensional vectors are unique.\")\n",
        "else:\n",
        "    print(\"There are duplicates in the 784-dimensional vectors.\")\n",
        "\n"
      ],
      "metadata": {
        "colab": {
          "base_uri": "https://localhost:8080/"
        },
        "id": "1p1byeYZ5KEx",
        "outputId": "b747c3a3-00e9-44e5-e835-23025554d655"
      },
      "execution_count": 36,
      "outputs": [
        {
          "output_type": "stream",
          "name": "stdout",
          "text": [
            "Total number of '1' images in the training set: 6742\n",
            "Total images in mnist_train_ones: 6742\n",
            "Unique images: 6726\n",
            "There are duplicates in the 784-dimensional vectors.\n"
          ]
        }
      ]
    },
    {
      "cell_type": "code",
      "source": [
        "import numpy as np\n",
        "from sklearn.neighbors import NearestNeighbors\n",
        "import graph_tool as gt\n",
        "\n",
        "def visualize_threshold_graph_gt_weighted(unique_vectors, distance_threshold):\n",
        "    \"\"\"\n",
        "    Builds a weighted graph with graph-tool where each unique vector is a node and an edge is added\n",
        "    between nodes if their Euclidean distance is <= distance_threshold.\n",
        "    The edge is weighted by the real Euclidean distance between the nodes.\n",
        "\n",
        "    Args:\n",
        "        unique_vectors (torch.Tensor or np.array): Array/tensor of shape (n, 784) containing unique images.\n",
        "        distance_threshold (float): Maximum Euclidean distance for adding an edge between two nodes.\n",
        "\n",
        "    Returns:\n",
        "        g (graph_tool.Graph): The constructed weighted graph.\n",
        "    \"\"\"\n",
        "    # Convert tensor to numpy array if necessary.\n",
        "    X = unique_vectors\n",
        "\n",
        "    n = X.shape[0]\n",
        "    print(f\"Building weighted graph for {n} nodes...\")\n",
        "\n",
        "    # Use NearestNeighbors to find all pairs within the distance threshold.\n",
        "    nbrs = NearestNeighbors(radius=distance_threshold, algorithm='auto').fit(X)\n",
        "    distances, indices = nbrs.radius_neighbors(X)\n",
        "\n",
        "    # Create an undirected graph using graph-tool.\n",
        "    g = gt.Graph(directed=False)\n",
        "    g.add_vertex(n)  # Add n vertices\n",
        "\n",
        "    # Build a list of edges with weights\n",
        "    edge_list = []\n",
        "    for i, (dists, neigh) in enumerate(zip(distances, indices)):\n",
        "        # For each neighbor j of node i, add edge only if i < j to avoid duplicates.\n",
        "        edge_list.extend([[i, j, d] for d, j in zip(dists, neigh) if i < j])\n",
        "\n",
        "    # Convert the list of edges to a NumPy array (with float type to hold the weight)\n",
        "    edge_array = np.array(edge_list)\n",
        "\n",
        "    eweight = g.new_ep(\"float\")\n",
        "    # Add all edges at once\n",
        "    g.add_edge_list(edge_array, eprops=[eweight])\n",
        "\n",
        "    print(f\"Weighted graph built with {g.num_edges()} edges.\")\n",
        "    return g\n",
        "\n",
        "# Example usage:\n",
        "g = visualize_threshold_graph_gt_weighted(unique_vectors, distance_threshold=6)\n"
      ],
      "metadata": {
        "colab": {
          "base_uri": "https://localhost:8080/"
        },
        "id": "TCK9ZYEI5R-r",
        "outputId": "4f5edd63-565c-4684-f108-0c746c216793"
      },
      "execution_count": 44,
      "outputs": [
        {
          "output_type": "stream",
          "name": "stdout",
          "text": [
            "Building weighted graph for 6726 nodes...\n",
            "Weighted graph built with 4681902 edges.\n"
          ]
        }
      ]
    },
    {
      "cell_type": "code",
      "source": [
        "import numpy as np\n",
        "import graph_tool.all as gt\n",
        "import graph_tool.topology as gt_topo\n",
        "\n",
        "def find_furthest_nodes_double_sweep_largest_component(g, X):\n",
        "    \"\"\"\n",
        "    For a graph g (built with graph-tool) and an array X of shape (n, 784) corresponding to the\n",
        "    unique vectors (with row i corresponding to vertex i), this function:\n",
        "      1. Adds a vertex property to store original indices.\n",
        "      2. Extracts the largest connected component.\n",
        "      3. Finds two nodes that are farthest apart (approximate diameter endpoints) using a double-sweep algorithm\n",
        "         on the subgraph.\n",
        "      4. Computes the shortest path between them in the subgraph.\n",
        "      5. Maps the subgraph vertices back to the original graph using the stored property.\n",
        "      6. Extracts the corresponding 784-d vectors and computes delta vectors along the path.\n",
        "\n",
        "    Returns:\n",
        "      endpoints_sub: Tuple with the two endpoint indices in the subgraph (original indices).\n",
        "      path_indices: List of original graph vertex indices along the shortest path.\n",
        "      path_vectors: Array of the corresponding 784-d vectors for each vertex on the path.\n",
        "      path_deltas: List of delta vectors between consecutive nodes on the path.\n",
        "    \"\"\"\n",
        "    # --- Step 1: Store original vertex indices as a vertex property ---\n",
        "    orig_index = g.new_vertex_property(\"int\")\n",
        "    for v in g.vertices():\n",
        "        orig_index[v] = int(v)\n",
        "\n",
        "    # --- Step 2: Extract the largest connected component ---\n",
        "    comp, hist = gt.label_components(g)\n",
        "    largest_comp = np.argmax(hist)\n",
        "    vfilt = comp.a == largest_comp\n",
        "    g_sub = gt.GraphView(g, vfilt=vfilt)\n",
        "\n",
        "    # Build a mapping from subgraph vertex object to original graph index.\n",
        "    vertex_to_orig = {v: int(orig_index[v]) for v in g_sub.vertices()}\n",
        "    # Also, get a list of subgraph vertices.\n",
        "    vertices_sub = list(g_sub.vertices())\n",
        "    n_sub = len(vertices_sub)\n",
        "    print(f\"Largest connected component has {n_sub} vertices (out of {int(g.num_vertices())} total).\")\n",
        "\n",
        "    # --- Step 3: Double Sweep Algorithm on the subgraph ---\n",
        "    # Use the list of vertices instead of range(n_sub)\n",
        "    v0 = vertices_sub[0]\n",
        "    dmap = gt.shortest_distance(g_sub, source=v0)\n",
        "    # Find the vertex farthest from v0 among vertices_sub.\n",
        "    farthest_idx = np.argmax([dmap[v] for v in vertices_sub])\n",
        "    v1 = vertices_sub[farthest_idx]\n",
        "\n",
        "    dmap2 = gt.shortest_distance(g_sub, source=v1)\n",
        "    farthest_idx2 = np.argmax([dmap2[v] for v in vertices_sub])\n",
        "    v2 = vertices_sub[farthest_idx2]\n",
        "\n",
        "    endpoints_sub = (vertex_to_orig[v1], vertex_to_orig[v2])\n",
        "    diameter_length = dmap2[v2]\n",
        "    print(\"Diameter endpoints in subgraph (original indices):\", endpoints_sub, \"with length:\", diameter_length)\n",
        "\n",
        "    # --- Step 4: Compute the shortest path in the subgraph between v1 and v2 ---\n",
        "    path_vertices_sub, _ = gt_topo.shortest_path(g_sub, source=v1, target=v2)\n",
        "    # path_vertices_sub is a list of vertex objects in g_sub.\n",
        "    print(\"Shortest path in subgraph (vertex objects):\", list(path_vertices_sub))\n",
        "\n",
        "    # --- Step 5: Map subgraph vertex objects back to original graph indices ---\n",
        "    path_indices = [vertex_to_orig[v] for v in path_vertices_sub]\n",
        "    print(\"Mapped original graph vertex indices for path:\", path_indices)\n",
        "\n",
        "    # --- Step 6: Extract the corresponding 784-d vectors and compute delta vectors ---\n",
        "    path_vectors = X[path_indices]\n",
        "    path_deltas = [path_vectors[i+1] - path_vectors[i] for i in range(len(path_vectors) - 1)]\n",
        "\n",
        "    return endpoints_sub, path_indices, path_vectors, path_deltas\n",
        "\n",
        "# Example usage:\n",
        "# Assume unique_vectors is your NumPy array of shape (n, 784)\n",
        "endpoints_sub, path_indices, path_vectors, path_deltas = find_furthest_nodes_double_sweep_largest_component(g, unique_vectors)\n",
        "\n",
        "print(\"\\n--- Results ---\")\n",
        "print(\"Furthest endpoints in subgraph (original indices):\", endpoints_sub)\n",
        "print(\"Path indices (original graph):\", path_indices)\n",
        "print(\"Path vectors shape:\", np.array(path_vectors).shape)\n",
        "print(\"Number of delta vectors:\", len(path_deltas))\n"
      ],
      "metadata": {
        "colab": {
          "base_uri": "https://localhost:8080/"
        },
        "id": "foXefCRE5gbp",
        "outputId": "1fa7b315-7eb5-4459-aa13-f9ebc87a3b7e"
      },
      "execution_count": 45,
      "outputs": [
        {
          "output_type": "stream",
          "name": "stdout",
          "text": [
            "Largest connected component has 6631 vertices (out of 6726 total).\n",
            "Diameter endpoints in subgraph (original indices): (6552, 0) with length: 10\n",
            "Shortest path in subgraph (vertex objects): [<Vertex object with index '6552' at 0x7bbc88f0b140>, <Vertex object with index '2345' at 0x7bbc88f0acc0>, <Vertex object with index '6425' at 0x7bbc88f0b040>, <Vertex object with index '6439' at 0x7bbc88f0afc0>, <Vertex object with index '6168' at 0x7bbc88f0af40>, <Vertex object with index '1227' at 0x7bbc88f0aec0>, <Vertex object with index '4' at 0x7bbc88f0ae40>, <Vertex object with index '127' at 0x7bbc88f0adc0>, <Vertex object with index '2506' at 0x7bbc88f0ad40>, <Vertex object with index '1' at 0x7bbc88f0ac40>, <Vertex object with index '0' at 0x7bbcb5e8d7c0>]\n",
            "Mapped original graph vertex indices for path: [6552, 2345, 6425, 6439, 6168, 1227, 4, 127, 2506, 1, 0]\n",
            "\n",
            "--- Results ---\n",
            "Furthest endpoints in subgraph (original indices): (6552, 0)\n",
            "Path indices (original graph): [6552, 2345, 6425, 6439, 6168, 1227, 4, 127, 2506, 1, 0]\n",
            "Path vectors shape: (11, 784)\n",
            "Number of delta vectors: 10\n"
          ]
        }
      ]
    },
    {
      "cell_type": "code",
      "source": [
        "import matplotlib.pyplot as plt\n",
        "\n",
        "def plot_path_as_images(path_vectors):\n",
        "    \"\"\"\n",
        "    Given an array of 784-d vectors (each representing an MNIST image),\n",
        "    reshapes them into 28x28 images and plots them side-by-side.\n",
        "\n",
        "    Args:\n",
        "        path_vectors (np.array): Array of shape (n_steps, 784)\n",
        "    \"\"\"\n",
        "    num_steps = len(path_vectors)\n",
        "    # Create a figure with one subplot per image along the path.\n",
        "    fig, axs = plt.subplots(1, num_steps, figsize=(num_steps * 2, 2))\n",
        "\n",
        "    # If only one image, ensure axs is iterable.\n",
        "    if num_steps == 1:\n",
        "        axs = [axs]\n",
        "\n",
        "    for i, vec in enumerate(path_vectors):\n",
        "        img = vec.reshape(28, 28)\n",
        "        axs[i].imshow(img, cmap='gray')\n",
        "        axs[i].axis(\"off\")\n",
        "        axs[i].set_title(f\"Step {i}\", fontsize=10)\n",
        "\n",
        "    plt.tight_layout()\n",
        "    plt.show()\n",
        "\n",
        "# Assuming path_vectors is the output from the previous function\n",
        "plot_path_as_images(path_vectors)\n"
      ],
      "metadata": {
        "colab": {
          "base_uri": "https://localhost:8080/",
          "height": 165
        },
        "id": "r85EPspZ5-ih",
        "outputId": "d69f90a0-c58e-4984-c057-9449316f4b90"
      },
      "execution_count": 31,
      "outputs": [
        {
          "output_type": "display_data",
          "data": {
            "text/plain": [
              "<Figure size 2200x200 with 11 Axes>"
            ],
            "image/png": "[encoded data removed]"
          },
          "metadata": {}
        }
      ]
    },
    {
      "cell_type": "code",
      "source": [
        "import numpy as np\n",
        "\n",
        "# Assume path_deltas is a list of 10 arrays, each of shape (784,)\n",
        "# First, stack them into a 2D array with shape (10, 784)\n",
        "deltas_array = np.stack(path_deltas)  # Shape: (10, 784)\n",
        "\n",
        "# Transpose the array to get shape (784, 10)\n",
        "deltas_by_dimension = deltas_array.T  # Each row now corresponds to a dimension\n",
        "\n",
        "# If you need a list of 784 arrays (each of length 10)\n",
        "deltas_list_by_dimension = [deltas_by_dimension[i, :] for i in range(deltas_by_dimension.shape[0])]\n",
        "\n",
        "print(\"Shape of deltas_array (by path step):\", deltas_array.shape)\n",
        "print(\"Shape of deltas_by_dimension (by dimension):\", deltas_by_dimension.shape)\n"
      ],
      "metadata": {
        "colab": {
          "base_uri": "https://localhost:8080/"
        },
        "id": "lbPG2ry-6cFo",
        "outputId": "fcf89ea9-fa4e-4a09-cb9d-5379e40016df"
      },
      "execution_count": 32,
      "outputs": [
        {
          "output_type": "stream",
          "name": "stdout",
          "text": [
            "Shape of deltas_array (by path step): (10, 784)\n",
            "Shape of deltas_by_dimension (by dimension): (784, 10)\n"
          ]
        }
      ]
    },
    {
      "cell_type": "code",
      "source": [
        "import numpy as np\n",
        "\n",
        "# Assuming deltas_by_dimension is a NumPy array of shape (784, 10)\n",
        "indices_with_one = np.where(np.any(deltas_by_dimension != 0, axis=1))[0]\n",
        "print(\"Indices with at least one 1:\", indices_with_one)\n",
        "\n",
        "import numpy as np\n",
        "import pandas as pd\n",
        "\n",
        "# Assuming deltas_by_dimension is a numpy array of shape (784, 10)\n",
        "# Compute the count of 1s for each row\n",
        "ones_count = np.sum(deltas_by_dimension != 0, axis=1)\n",
        "\n",
        "# Create a DataFrame with row numbers and count of 1s\n",
        "df = pd.DataFrame({\n",
        "    'Row': np.arange(deltas_by_dimension.shape[0]),\n",
        "    \"Count of 1's\": ones_count\n",
        "})\n",
        "\n",
        "# Sort the DataFrame in descending order by the count of 1s\n",
        "df_sorted = df.sort_values(by=\"Count of 1's\", ascending=False)\n",
        "\n",
        "# Display the sorted table\n",
        "print(df_sorted)\n"
      ],
      "metadata": {
        "colab": {
          "base_uri": "https://localhost:8080/"
        },
        "id": "OCgxCWCM79Ei",
        "outputId": "df73e616-0470-46c8-e817-c4be3d33a91a"
      },
      "execution_count": 33,
      "outputs": [
        {
          "output_type": "stream",
          "name": "stdout",
          "text": [
            "Indices with at least one 1: [120 121 122 123 124 132 133 148 149 150 151 152 155 159 160 161 176 177\n",
            " 178 179 180 183 188 189 190 205 206 207 208 209 211 214 215 216 217 219\n",
            " 233 234 235 236 237 239 241 242 243 244 245 246 247 248 262 263 264 265\n",
            " 266 267 269 270 271 272 273 274 275 276 290 291 292 293 294 295 296 297\n",
            " 298 299 300 301 318 319 320 321 322 323 324 325 326 327 328 346 347 348\n",
            " 349 350 351 352 353 354 355 375 376 377 378 379 380 381 382 403 404 405\n",
            " 407 408 409 431 432 433 435 436 458 459 460 461 462 463 464 485 486 487\n",
            " 488 489 490 491 492 493 512 513 514 515 516 518 519 520 521 522 538 539\n",
            " 540 541 542 543 544 546 547 548 549 550 551 564 565 566 567 568 569 570\n",
            " 571 572 574 575 576 577 578 579 580 594 595 596 597 599 602 604 605 606\n",
            " 607 608 622 623 624 625 626 628 630 633 634 635 636 637 649 650 652 654\n",
            " 656 658 659 661 662 663 664 679 680 682 684 691 692]\n",
            "     Row  Count of 1's\n",
            "350  350             4\n",
            "322  322             4\n",
            "296  296             4\n",
            "265  265             4\n",
            "323  323             4\n",
            "..   ...           ...\n",
            "289  289             0\n",
            "302  302             0\n",
            "303  303             0\n",
            "304  304             0\n",
            "282  282             0\n",
            "\n",
            "[784 rows x 2 columns]\n"
          ]
        }
      ]
    },
    {
      "cell_type": "code",
      "source": [
        "import numpy as np\n",
        "import graph_tool.all as gt\n",
        "\n",
        "# Label connected components; comp is a property map with component labels,\n",
        "# and hist contains the sizes of each component.\n",
        "comp, hist = gt.label_components(g)\n",
        "\n",
        "# Identify the label corresponding to the largest component.\n",
        "largest_component_label = np.argmax(hist)\n",
        "\n",
        "# Create a vertex filter that is True for vertices in the largest component.\n",
        "vfilt = comp.a == largest_component_label\n",
        "\n",
        "# Create a subgraph view using the vertex filter.\n",
        "g_lcc = gt.GraphView(g, vfilt=vfilt)\n",
        "\n",
        "print(\"Largest connected component has\", g_lcc.num_vertices(), \"vertices and\", g_lcc.num_edges(), \"edges.\")\n"
      ],
      "metadata": {
        "colab": {
          "base_uri": "https://localhost:8080/"
        },
        "id": "2VOBIjwm8qU-",
        "outputId": "1a32ea46-f481-48dd-9c88-cdceb871f785"
      },
      "execution_count": 40,
      "outputs": [
        {
          "output_type": "stream",
          "name": "stdout",
          "text": [
            "Largest connected component has 6631 vertices and 4681893 edges.\n"
          ]
        }
      ]
    },
    {
      "cell_type": "code",
      "source": [
        "# Assume g is your original graph and it has a vertex property \"orig_index\"\n",
        "orig_index_prop = g.vertex_properties[\"orig_index\"]\n",
        "\n",
        "# Build a mapping for vertices in the connected component\n",
        "vertex_to_orig = {v: int(orig_index_prop[v]) for v in g_lcc.vertices()}\n"
      ],
      "metadata": {
        "id": "EMnGWVS_jub4",
        "outputId": "a38352ff-175e-4c9b-c844-7f515894f099",
        "colab": {
          "base_uri": "https://localhost:8080/",
          "height": 338
        }
      },
      "execution_count": 48,
      "outputs": [
        {
          "output_type": "error",
          "ename": "KeyError",
          "evalue": "('v', 'orig_index')",
          "traceback": [
            "\u001b[0;31m---------------------------------------------------------------------------\u001b[0m",
            "\u001b[0;31mKeyError\u001b[0m                                  Traceback (most recent call last)",
            "\u001b[0;32m<ipython-input-48-bd200f1c8ff3>\u001b[0m in \u001b[0;36m<cell line: 0>\u001b[0;34m()\u001b[0m\n\u001b[1;32m      1\u001b[0m \u001b[0;31m# Assume g is your original graph and it has a vertex property \"orig_index\"\u001b[0m\u001b[0;34m\u001b[0m\u001b[0;34m\u001b[0m\u001b[0m\n\u001b[0;32m----> 2\u001b[0;31m \u001b[0morig_index_prop\u001b[0m \u001b[0;34m=\u001b[0m \u001b[0mg\u001b[0m\u001b[0;34m.\u001b[0m\u001b[0mvertex_properties\u001b[0m\u001b[0;34m[\u001b[0m\u001b[0;34m\"orig_index\"\u001b[0m\u001b[0;34m]\u001b[0m\u001b[0;34m\u001b[0m\u001b[0;34m\u001b[0m\u001b[0m\n\u001b[0m\u001b[1;32m      3\u001b[0m \u001b[0;34m\u001b[0m\u001b[0m\n\u001b[1;32m      4\u001b[0m \u001b[0;31m# Build a mapping for vertices in the connected component\u001b[0m\u001b[0;34m\u001b[0m\u001b[0;34m\u001b[0m\u001b[0m\n\u001b[1;32m      5\u001b[0m \u001b[0mvertex_to_orig\u001b[0m \u001b[0;34m=\u001b[0m \u001b[0;34m{\u001b[0m\u001b[0mv\u001b[0m\u001b[0;34m:\u001b[0m \u001b[0mint\u001b[0m\u001b[0;34m(\u001b[0m\u001b[0morig_index_prop\u001b[0m\u001b[0;34m[\u001b[0m\u001b[0mv\u001b[0m\u001b[0;34m]\u001b[0m\u001b[0;34m)\u001b[0m \u001b[0;32mfor\u001b[0m \u001b[0mv\u001b[0m \u001b[0;32min\u001b[0m \u001b[0mg_lcc\u001b[0m\u001b[0;34m.\u001b[0m\u001b[0mvertices\u001b[0m\u001b[0;34m(\u001b[0m\u001b[0;34m)\u001b[0m\u001b[0;34m}\u001b[0m\u001b[0;34m\u001b[0m\u001b[0;34m\u001b[0m\u001b[0m\n",
            "\u001b[0;32m/usr/local/lib/python3.11/site-packages/graph_tool/__init__.py\u001b[0m in \u001b[0;36m__getitem__\u001b[0;34m(self, key)\u001b[0m\n\u001b[1;32m   1606\u001b[0m             \u001b[0mp\u001b[0m \u001b[0;34m=\u001b[0m \u001b[0mself\u001b[0m\u001b[0;34m.\u001b[0m\u001b[0m__properties\u001b[0m\u001b[0;34m[\u001b[0m\u001b[0;34m(\u001b[0m\u001b[0mself\u001b[0m\u001b[0;34m.\u001b[0m\u001b[0m__t\u001b[0m\u001b[0;34m,\u001b[0m \u001b[0mkey\u001b[0m\u001b[0;34m)\u001b[0m\u001b[0;34m]\u001b[0m\u001b[0;34m\u001b[0m\u001b[0;34m\u001b[0m\u001b[0m\n\u001b[1;32m   1607\u001b[0m             \u001b[0;32mreturn\u001b[0m \u001b[0mp\u001b[0m\u001b[0;34m[\u001b[0m\u001b[0mp\u001b[0m\u001b[0;34m.\u001b[0m\u001b[0mget_graph\u001b[0m\u001b[0;34m(\u001b[0m\u001b[0;34m)\u001b[0m\u001b[0;34m]\u001b[0m\u001b[0;34m\u001b[0m\u001b[0;34m\u001b[0m\u001b[0m\n\u001b[0;32m-> 1608\u001b[0;31m         \u001b[0;32mreturn\u001b[0m \u001b[0mself\u001b[0m\u001b[0;34m.\u001b[0m\u001b[0m__properties\u001b[0m\u001b[0;34m[\u001b[0m\u001b[0;34m(\u001b[0m\u001b[0mself\u001b[0m\u001b[0;34m.\u001b[0m\u001b[0m__t\u001b[0m\u001b[0;34m,\u001b[0m \u001b[0mkey\u001b[0m\u001b[0;34m)\u001b[0m\u001b[0;34m]\u001b[0m\u001b[0;34m\u001b[0m\u001b[0;34m\u001b[0m\u001b[0m\n\u001b[0m\u001b[1;32m   1609\u001b[0m \u001b[0;34m\u001b[0m\u001b[0m\n\u001b[1;32m   1610\u001b[0m     \u001b[0;32mdef\u001b[0m \u001b[0mget\u001b[0m\u001b[0;34m(\u001b[0m\u001b[0mself\u001b[0m\u001b[0;34m,\u001b[0m \u001b[0mkey\u001b[0m\u001b[0;34m,\u001b[0m \u001b[0mdefault\u001b[0m\u001b[0;34m=\u001b[0m\u001b[0;32mNone\u001b[0m\u001b[0;34m)\u001b[0m\u001b[0;34m:\u001b[0m\u001b[0;34m\u001b[0m\u001b[0;34m\u001b[0m\u001b[0m\n",
            "\u001b[0;31mKeyError\u001b[0m: ('v', 'orig_index')"
          ]
        }
      ]
    },
    {
      "cell_type": "code",
      "source": [
        "import os\n",
        "from PIL import Image\n",
        "import numpy as np\n",
        "\n",
        "# Ensure output directory exists\n",
        "output_dir = \"mnist1s\"\n",
        "if not os.path.exists(output_dir):\n",
        "    os.makedirs(output_dir)\n",
        "\n",
        "# Get the original index property from the original graph; it's inherited by the subgraph\n",
        "orig_index = g.vertex_properties[\"orig_index\"]\n",
        "\n",
        "# Loop over vertices in the largest connected component (g_lcc)\n",
        "for v in g_lcc.vertices():\n",
        "    idx = int(orig_index[v])\n",
        "    # Retrieve the corresponding 784-dimensional vector\n",
        "    vector = unique_vectors[idx]  # vector of shape (784,)\n",
        "    # Reshape into a 28x28 image and scale values from [0, 1] to [0, 255]\n",
        "    image_array = (vector.reshape(28, 28) * 255).astype(np.uint8)\n",
        "    img = Image.fromarray(image_array, mode=\"L\")  # \"L\" mode for grayscale images\n",
        "    # Save the image with the node's original index as filename\n",
        "    img.save(os.path.join(output_dir, f\"{idx}.png\"))\n"
      ],
      "metadata": {
        "colab": {
          "base_uri": "https://localhost:8080/",
          "height": 338
        },
        "id": "SLKneguZizB5",
        "outputId": "de407d7c-4a7d-4ebb-e01d-a8ac26de6eb3"
      },
      "execution_count": 47,
      "outputs": [
        {
          "output_type": "error",
          "ename": "KeyError",
          "evalue": "('v', 'orig_index')",
          "traceback": [
            "\u001b[0;31m---------------------------------------------------------------------------\u001b[0m",
            "\u001b[0;31mKeyError\u001b[0m                                  Traceback (most recent call last)",
            "\u001b[0;32m<ipython-input-47-3b328f4ac644>\u001b[0m in \u001b[0;36m<cell line: 0>\u001b[0;34m()\u001b[0m\n\u001b[1;32m      9\u001b[0m \u001b[0;34m\u001b[0m\u001b[0m\n\u001b[1;32m     10\u001b[0m \u001b[0;31m# Get the original index property from the original graph; it's inherited by the subgraph\u001b[0m\u001b[0;34m\u001b[0m\u001b[0;34m\u001b[0m\u001b[0m\n\u001b[0;32m---> 11\u001b[0;31m \u001b[0morig_index\u001b[0m \u001b[0;34m=\u001b[0m \u001b[0mg_lcc\u001b[0m\u001b[0;34m.\u001b[0m\u001b[0mvertex_properties\u001b[0m\u001b[0;34m[\u001b[0m\u001b[0;34m\"orig_index\"\u001b[0m\u001b[0;34m]\u001b[0m\u001b[0;34m\u001b[0m\u001b[0;34m\u001b[0m\u001b[0m\n\u001b[0m\u001b[1;32m     12\u001b[0m \u001b[0;34m\u001b[0m\u001b[0m\n\u001b[1;32m     13\u001b[0m \u001b[0;31m# Loop over vertices in the largest connected component (g_lcc)\u001b[0m\u001b[0;34m\u001b[0m\u001b[0;34m\u001b[0m\u001b[0m\n",
            "\u001b[0;32m/usr/local/lib/python3.11/site-packages/graph_tool/__init__.py\u001b[0m in \u001b[0;36m__getitem__\u001b[0;34m(self, key)\u001b[0m\n\u001b[1;32m   1606\u001b[0m             \u001b[0mp\u001b[0m \u001b[0;34m=\u001b[0m \u001b[0mself\u001b[0m\u001b[0;34m.\u001b[0m\u001b[0m__properties\u001b[0m\u001b[0;34m[\u001b[0m\u001b[0;34m(\u001b[0m\u001b[0mself\u001b[0m\u001b[0;34m.\u001b[0m\u001b[0m__t\u001b[0m\u001b[0;34m,\u001b[0m \u001b[0mkey\u001b[0m\u001b[0;34m)\u001b[0m\u001b[0;34m]\u001b[0m\u001b[0;34m\u001b[0m\u001b[0;34m\u001b[0m\u001b[0m\n\u001b[1;32m   1607\u001b[0m             \u001b[0;32mreturn\u001b[0m \u001b[0mp\u001b[0m\u001b[0;34m[\u001b[0m\u001b[0mp\u001b[0m\u001b[0;34m.\u001b[0m\u001b[0mget_graph\u001b[0m\u001b[0;34m(\u001b[0m\u001b[0;34m)\u001b[0m\u001b[0;34m]\u001b[0m\u001b[0;34m\u001b[0m\u001b[0;34m\u001b[0m\u001b[0m\n\u001b[0;32m-> 1608\u001b[0;31m         \u001b[0;32mreturn\u001b[0m \u001b[0mself\u001b[0m\u001b[0;34m.\u001b[0m\u001b[0m__properties\u001b[0m\u001b[0;34m[\u001b[0m\u001b[0;34m(\u001b[0m\u001b[0mself\u001b[0m\u001b[0;34m.\u001b[0m\u001b[0m__t\u001b[0m\u001b[0;34m,\u001b[0m \u001b[0mkey\u001b[0m\u001b[0;34m)\u001b[0m\u001b[0;34m]\u001b[0m\u001b[0;34m\u001b[0m\u001b[0;34m\u001b[0m\u001b[0m\n\u001b[0m\u001b[1;32m   1609\u001b[0m \u001b[0;34m\u001b[0m\u001b[0m\n\u001b[1;32m   1610\u001b[0m     \u001b[0;32mdef\u001b[0m \u001b[0mget\u001b[0m\u001b[0;34m(\u001b[0m\u001b[0mself\u001b[0m\u001b[0;34m,\u001b[0m \u001b[0mkey\u001b[0m\u001b[0;34m,\u001b[0m \u001b[0mdefault\u001b[0m\u001b[0;34m=\u001b[0m\u001b[0;32mNone\u001b[0m\u001b[0;34m)\u001b[0m\u001b[0;34m:\u001b[0m\u001b[0;34m\u001b[0m\u001b[0;34m\u001b[0m\u001b[0m\n",
            "\u001b[0;31mKeyError\u001b[0m: ('v', 'orig_index')"
          ]
        }
      ]
    }
  ]
}