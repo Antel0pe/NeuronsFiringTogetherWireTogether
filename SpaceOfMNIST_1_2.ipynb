{
  "nbformat": 4,
  "nbformat_minor": 0,
  "metadata": {
    "colab": {
      "provenance": []
    },
    "kernelspec": {
      "name": "python3",
      "display_name": "Python 3"
    },
    "language_info": {
      "name": "python"
    }
  },
  "cells": [
    {
      "cell_type": "code",
      "source": [
        "!pip install igraph kmapper ripser persim scikit-learn\n"
      ],
      "metadata": {
        "colab": {
          "base_uri": "https://localhost:8080/"
        },
        "id": "cmwDhNSHmupY",
        "outputId": "7937d78a-2f07-4782-f072-9fa7f5a3d1e6"
      },
      "execution_count": 9,
      "outputs": [
        {
          "output_type": "stream",
          "name": "stdout",
          "text": [
            "Requirement already satisfied: igraph in /usr/local/lib/python3.11/dist-packages (0.11.8)\n",
            "Collecting kmapper\n",
            "  Downloading kmapper-2.1.0-py3-none-any.whl.metadata (4.9 kB)\n",
            "Collecting ripser\n",
            "  Downloading ripser-0.6.12-cp311-cp311-manylinux_2_17_x86_64.manylinux2014_x86_64.whl.metadata (8.7 kB)\n",
            "Collecting persim\n",
            "  Downloading persim-0.3.8-py3-none-any.whl.metadata (3.8 kB)\n",
            "Requirement already satisfied: scikit-learn in /usr/local/lib/python3.11/dist-packages (1.6.1)\n",
            "Requirement already satisfied: texttable>=1.6.2 in /usr/local/lib/python3.11/dist-packages (from igraph) (1.7.0)\n",
            "Requirement already satisfied: numpy in /usr/local/lib/python3.11/dist-packages (from kmapper) (2.0.2)\n",
            "Requirement already satisfied: scipy in /usr/local/lib/python3.11/dist-packages (from kmapper) (1.14.1)\n",
            "Requirement already satisfied: Jinja2 in /usr/local/lib/python3.11/dist-packages (from kmapper) (3.1.6)\n",
            "Requirement already satisfied: Cython in /usr/local/lib/python3.11/dist-packages (from ripser) (3.0.12)\n",
            "Requirement already satisfied: deprecated in /usr/local/lib/python3.11/dist-packages (from persim) (1.2.18)\n",
            "Collecting hopcroftkarp (from persim)\n",
            "  Downloading hopcroftkarp-1.2.5.tar.gz (16 kB)\n",
            "  Preparing metadata (setup.py) ... \u001b[?25l\u001b[?25hdone\n",
            "Requirement already satisfied: joblib in /usr/local/lib/python3.11/dist-packages (from persim) (1.4.2)\n",
            "Requirement already satisfied: matplotlib in /usr/local/lib/python3.11/dist-packages (from persim) (3.10.0)\n",
            "Requirement already satisfied: threadpoolctl>=3.1.0 in /usr/local/lib/python3.11/dist-packages (from scikit-learn) (3.6.0)\n",
            "Requirement already satisfied: wrapt<2,>=1.10 in /usr/local/lib/python3.11/dist-packages (from deprecated->persim) (1.17.2)\n",
            "Requirement already satisfied: MarkupSafe>=2.0 in /usr/local/lib/python3.11/dist-packages (from Jinja2->kmapper) (3.0.2)\n",
            "Requirement already satisfied: contourpy>=1.0.1 in /usr/local/lib/python3.11/dist-packages (from matplotlib->persim) (1.3.1)\n",
            "Requirement already satisfied: cycler>=0.10 in /usr/local/lib/python3.11/dist-packages (from matplotlib->persim) (0.12.1)\n",
            "Requirement already satisfied: fonttools>=4.22.0 in /usr/local/lib/python3.11/dist-packages (from matplotlib->persim) (4.56.0)\n",
            "Requirement already satisfied: kiwisolver>=1.3.1 in /usr/local/lib/python3.11/dist-packages (from matplotlib->persim) (1.4.8)\n",
            "Requirement already satisfied: packaging>=20.0 in /usr/local/lib/python3.11/dist-packages (from matplotlib->persim) (24.2)\n",
            "Requirement already satisfied: pillow>=8 in /usr/local/lib/python3.11/dist-packages (from matplotlib->persim) (11.1.0)\n",
            "Requirement already satisfied: pyparsing>=2.3.1 in /usr/local/lib/python3.11/dist-packages (from matplotlib->persim) (3.2.1)\n",
            "Requirement already satisfied: python-dateutil>=2.7 in /usr/local/lib/python3.11/dist-packages (from matplotlib->persim) (2.8.2)\n",
            "Requirement already satisfied: six>=1.5 in /usr/local/lib/python3.11/dist-packages (from python-dateutil>=2.7->matplotlib->persim) (1.17.0)\n",
            "Downloading kmapper-2.1.0-py3-none-any.whl (126 kB)\n",
            "\u001b[2K   \u001b[90m━━━━━━━━━━━━━━━━━━━━━━━━━━━━━━━━━━━━━━━━\u001b[0m \u001b[32m126.8/126.8 kB\u001b[0m \u001b[31m8.2 MB/s\u001b[0m eta \u001b[36m0:00:00\u001b[0m\n",
            "\u001b[?25hDownloading ripser-0.6.12-cp311-cp311-manylinux_2_17_x86_64.manylinux2014_x86_64.whl (841 kB)\n",
            "\u001b[2K   \u001b[90m━━━━━━━━━━━━━━━━━━━━━━━━━━━━━━━━━━━━━━━━\u001b[0m \u001b[32m841.3/841.3 kB\u001b[0m \u001b[31m36.3 MB/s\u001b[0m eta \u001b[36m0:00:00\u001b[0m\n",
            "\u001b[?25hDownloading persim-0.3.8-py3-none-any.whl (48 kB)\n",
            "\u001b[2K   \u001b[90m━━━━━━━━━━━━━━━━━━━━━━━━━━━━━━━━━━━━━━━━\u001b[0m \u001b[32m48.6/48.6 kB\u001b[0m \u001b[31m3.0 MB/s\u001b[0m eta \u001b[36m0:00:00\u001b[0m\n",
            "\u001b[?25hBuilding wheels for collected packages: hopcroftkarp\n",
            "  Building wheel for hopcroftkarp (setup.py) ... \u001b[?25l\u001b[?25hdone\n",
            "  Created wheel for hopcroftkarp: filename=hopcroftkarp-1.2.5-py2.py3-none-any.whl size=18102 sha256=70cb5584bdaf7d6e589590f89d06f00efd88112fa125abf4b4d40816d3d76f2f\n",
            "  Stored in directory: /root/.cache/pip/wheels/1f/cc/2d/de23a8b9ae586817b0b44de4a4b1a08f23473e248a644b312f\n",
            "Successfully built hopcroftkarp\n",
            "Installing collected packages: hopcroftkarp, persim, kmapper, ripser\n",
            "Successfully installed hopcroftkarp-1.2.5 kmapper-2.1.0 persim-0.3.8 ripser-0.6.12\n"
          ]
        }
      ]
    },
    {
      "cell_type": "code",
      "execution_count": 2,
      "metadata": {
        "id": "0JZ3IsCig7lP"
      },
      "outputs": [],
      "source": [
        "import torch\n",
        "from torch.utils.data import Subset\n",
        "import torchvision\n",
        "from torchvision import transforms\n",
        "import matplotlib.pyplot as plt\n"
      ]
    },
    {
      "cell_type": "code",
      "source": [
        "# Define the transformation pipeline:\n",
        "transform = transforms.Compose([\n",
        "    transforms.ToTensor(),\n",
        "    transforms.Lambda(lambda x: (x > 0.5).float()),  # Binarize the image\n",
        "    transforms.Lambda(lambda x: x.view(-1))           # Flatten into a 784-dim vector\n",
        "])\n",
        "\n",
        "# Load the training set (set download=True if running for the first time)\n",
        "mnist_train = torchvision.datasets.MNIST(root='./data', train=True, download=True, transform=transform)\n"
      ],
      "metadata": {
        "id": "zXS8xyD9g_2H"
      },
      "execution_count": 3,
      "outputs": []
    },
    {
      "cell_type": "code",
      "source": [
        "# Get indices for images where the label is 1\n",
        "indices = (mnist_train.targets == 1).nonzero().squeeze()\n",
        "\n",
        "# Create a subset containing only the '1's\n",
        "mnist_train_ones = Subset(mnist_train, indices)\n",
        "\n",
        "print(f\"Total number of '1' images in the training set: {len(mnist_train_ones)}\")\n"
      ],
      "metadata": {
        "colab": {
          "base_uri": "https://localhost:8080/"
        },
        "id": "1G4H2mBThBHu",
        "outputId": "26369b6f-9750-44df-e3f5-03be83ce379d"
      },
      "execution_count": 4,
      "outputs": [
        {
          "output_type": "stream",
          "name": "stdout",
          "text": [
            "Total number of '1' images in the training set: 6742\n"
          ]
        }
      ]
    },
    {
      "cell_type": "code",
      "source": [
        "# Stack all 784-dim vectors from the filtered dataset\n",
        "all_vectors = torch.stack([img for img, _ in mnist_train_ones])\n",
        "unique_vectors = torch.unique(all_vectors, dim=0)\n",
        "\n",
        "print(f\"Total images in mnist_train_ones: {all_vectors.shape[0]}\")\n",
        "print(f\"Unique images: {unique_vectors.shape[0]}\")\n",
        "\n",
        "if all_vectors.shape[0] == unique_vectors.shape[0]:\n",
        "    print(\"All 784-dimensional vectors are unique.\")\n",
        "else:\n",
        "    print(\"There are duplicates in the 784-dimensional vectors.\")\n"
      ],
      "metadata": {
        "colab": {
          "base_uri": "https://localhost:8080/"
        },
        "id": "rEc3Ktq3hSOh",
        "outputId": "59cbfa52-684f-4570-f7c5-7767ee0937fb"
      },
      "execution_count": 5,
      "outputs": [
        {
          "output_type": "stream",
          "name": "stdout",
          "text": [
            "Total images in mnist_train_ones: 6742\n",
            "Unique images: 6726\n",
            "There are duplicates in the 784-dimensional vectors.\n"
          ]
        }
      ]
    },
    {
      "cell_type": "code",
      "source": [
        "import numpy as np\n",
        "import torch\n",
        "import matplotlib.pyplot as plt\n",
        "from sklearn.neighbors import NearestNeighbors\n",
        "from sklearn.manifold import TSNE\n",
        "import networkx as nx\n",
        "\n",
        "def visualize_threshold_graph(unique_vectors, distance_threshold):\n",
        "    \"\"\"\n",
        "    Builds and visualizes a graph where each unique vector is a node and an edge is added\n",
        "    between nodes if their Euclidean distance is <= distance_threshold.\n",
        "\n",
        "    The visualization uses t-SNE to embed the nodes into 2D (to mimic a Kepler Mapper style).\n",
        "\n",
        "    Args:\n",
        "        unique_vectors (torch.Tensor or np.array): Array/tensor of shape (n, 784) containing unique images.\n",
        "        distance_threshold (float): Maximum Euclidean distance for adding an edge between two nodes.\n",
        "    \"\"\"\n",
        "    # Convert tensor to numpy array if necessary.\n",
        "    if hasattr(unique_vectors, 'cpu'):\n",
        "        X = unique_vectors.cpu().numpy()\n",
        "    else:\n",
        "        X = unique_vectors\n",
        "\n",
        "    n = X.shape[0]\n",
        "    print(f\"Building graph for {n} nodes...\")\n",
        "\n",
        "    # Use NearestNeighbors to find all pairs within the distance threshold\n",
        "    nbrs = NearestNeighbors(radius=distance_threshold, algorithm='ball_tree').fit(X)\n",
        "    # indices[i] is an array of indices of neighbors for node i (including itself)\n",
        "    distances, indices = nbrs.radius_neighbors(X)\n",
        "\n",
        "    # Create an undirected graph and add nodes\n",
        "    G = nx.Graph()\n",
        "    G.add_nodes_from(range(n))\n",
        "\n",
        "    # Add edges: For each node, add an edge to every neighbor with index > current node (to avoid duplicates)\n",
        "    for i, neigh in enumerate(indices):\n",
        "        for j in neigh:\n",
        "            if i < j:\n",
        "                G.add_edge(i, j)\n",
        "    print(f\"Graph built with {G.number_of_edges()} edges.\")\n",
        "\n",
        "    # # Compute a 2D embedding for visualization using t-SNE.\n",
        "    # print(\"Computing 2D embedding with t-SNE...\")\n",
        "    # X_reduced = TSNE(n_components=2, random_state=42).fit_transform(X)\n",
        "    # pos = {i: X_reduced[i] for i in range(n)}\n",
        "\n",
        "    # # Plot the graph\n",
        "    # plt.figure(figsize=(12, 10))\n",
        "    # nx.draw_networkx_nodes(G, pos, node_size=10, node_color='blue', alpha=0.6)\n",
        "    # nx.draw_networkx_edges(G, pos, alpha=0.3)\n",
        "    # plt.title(f\"Graph of Unique Vectors (Edges if distance <= {distance_threshold})\")\n",
        "    # plt.axis('off')\n",
        "    # plt.show()\n",
        "\n",
        "    return G\n",
        "\n",
        "# G = visualize_threshold_graph(unique_vectors, distance_threshold=6)\n"
      ],
      "metadata": {
        "id": "RApsteGDhJPe"
      },
      "execution_count": 19,
      "outputs": []
    },
    {
      "cell_type": "code",
      "source": [
        "def merge_nodes_by_cliques(vectors, merge_threshold=2):\n",
        "    \"\"\"\n",
        "    1. Builds a graph at a low threshold.\n",
        "    2. Finds all maximal cliques.\n",
        "    3. Greedily assigns each node to one cluster (using clique size priority),\n",
        "       so every node is represented (even singletons).\n",
        "    4. Computes an aggregated position (mean vector) for each cluster.\n",
        "    5. Builds a new graph from these aggregated nodes.\n",
        "\n",
        "    Args:\n",
        "        vectors (torch.Tensor or np.array): Data of shape (n, d).\n",
        "        merge_threshold (float): Distance threshold for the initial graph.\n",
        "\n",
        "    Returns:\n",
        "        new_G (networkx.Graph): New graph built from aggregated nodes.\n",
        "        aggregated_positions (np.array): Array of shape (n_clusters, d) with new node positions.\n",
        "    \"\"\"\n",
        "    # Step 1: Build initial graph.\n",
        "    G_small = visualize_threshold_graph(vectors, distance_threshold=merge_threshold)\n",
        "\n",
        "    # Step 2: Find maximal cliques.\n",
        "    cliques = list(nx.find_cliques(G_small))\n",
        "    print(f\"Found {len(cliques)} maximal cliques (including singletons).\")\n",
        "\n",
        "    # Sort cliques by descending size so that larger cliques are assigned first.\n",
        "    cliques = sorted(cliques, key=lambda c: -len(c))\n",
        "\n",
        "    # Step 3: Greedy assignment so that each node appears in exactly one cluster.\n",
        "    clusters = []\n",
        "    assigned = set()\n",
        "    for clique in cliques:\n",
        "        # Create a cluster from unassigned nodes in the clique.\n",
        "        clique_cluster = []\n",
        "        for n in clique:\n",
        "            if n not in assigned:\n",
        "                clique_cluster.append(n)\n",
        "                assigned.add(n)\n",
        "        if clique_cluster:\n",
        "            clusters.append(clique_cluster)\n",
        "\n",
        "    # If any nodes remain (shouldn't happen since each node is at least in a 1-clique),\n",
        "    # add them as singleton clusters.\n",
        "    all_nodes = set(range(vectors.shape[0]))\n",
        "    unassigned = all_nodes - assigned\n",
        "    for n in unassigned:\n",
        "        clusters.append([n])\n",
        "\n",
        "    print(f\"After partitioning, {len(clusters)} clusters created.\")\n",
        "\n",
        "    # Step 4: Compute aggregated positions (mean vector for each cluster).\n",
        "    if hasattr(vectors, 'cpu'):\n",
        "        X = vectors.cpu().numpy()\n",
        "    else:\n",
        "        X = vectors\n",
        "    aggregated_positions = []\n",
        "    for cluster in clusters:\n",
        "        cluster_vectors = X[np.array(cluster)]\n",
        "        mean_vector = np.mean(cluster_vectors, axis=0)\n",
        "        aggregated_positions.append(mean_vector)\n",
        "    aggregated_positions = np.array(aggregated_positions)\n",
        "    print(f\"Aggregated positions shape: {aggregated_positions.shape}\")\n",
        "\n",
        "    # Step 5: Build a new graph from these aggregated nodes.\n",
        "    new_G = visualize_threshold_graph(aggregated_positions, distance_threshold=merge_threshold)\n",
        "    print(f\"New graph: {new_G.number_of_nodes()} nodes, {new_G.number_of_edges()} edges\")\n",
        "\n",
        "    return new_G, aggregated_positions\n",
        "\n",
        "# merge_threshold = 2  # Nodes within this Euclidean distance will be merged.\n",
        "# new_G, aggregated_positions = merge_nodes_by_cliques(unique_vectors, merge_threshold)"
      ],
      "metadata": {
        "id": "0h0QAdWQuHds"
      },
      "execution_count": 21,
      "outputs": []
    },
    {
      "cell_type": "code",
      "source": [
        "def recursive_merge_graphs(initial_vectors, thresholds):\n",
        "    \"\"\"\n",
        "    Recursively (iteratively) merges nodes based on a sequence of thresholds.\n",
        "    At each threshold, the graph is built, nodes are merged, and the aggregated\n",
        "    positions are passed as input to the next threshold.\n",
        "\n",
        "    Args:\n",
        "        initial_vectors (torch.Tensor or np.array): Initial data of shape (n, d).\n",
        "        thresholds (list or array): Increasing sequence of distance thresholds.\n",
        "\n",
        "    Returns:\n",
        "        graph_sequence (list): List of graphs at each level.\n",
        "        final_positions (np.array): Aggregated positions after the last merge.\n",
        "    \"\"\"\n",
        "    aggregated_positions = initial_vectors\n",
        "    finalGraph = None\n",
        "    for t in thresholds:\n",
        "        print(\"\\n\" + \"=\"*50)\n",
        "        print(f\"Processing merge at threshold {t}\")\n",
        "        G, aggregated_positions = merge_nodes_by_cliques(aggregated_positions, merge_threshold=t)\n",
        "        finalGraph = G\n",
        "    return finalGraph, aggregated_positions\n",
        "\n",
        "# Example usage:\n",
        "# Assume unique_vectors is your MNIST 1s data of shape (n, 784).\n",
        "# unique_vectors = ... (load your data here)\n",
        "thresholds = [2, 3, 4, 5, 6]\n",
        "graph, final_positions = recursive_merge_graphs(unique_vectors, thresholds)\n",
        "\n",
        "print(\"Recursive merging complete.\")\n",
        "print(f\"Final aggregated nodes shape: {final_positions.shape}\")"
      ],
      "metadata": {
        "colab": {
          "base_uri": "https://localhost:8080/"
        },
        "id": "Ja4QSRYXuoqT",
        "outputId": "3b725524-20da-4814-ec76-17c904e6e24d"
      },
      "execution_count": null,
      "outputs": [
        {
          "output_type": "stream",
          "name": "stdout",
          "text": [
            "\n",
            "==================================================\n",
            "Processing merge at threshold 2\n",
            "Building graph for 6726 nodes...\n",
            "Graph built with 1456 edges.\n",
            "Found 6492 maximal cliques (including singletons).\n",
            "After partitioning, 6369 clusters created.\n",
            "Aggregated positions shape: (6369, 784)\n",
            "Building graph for 6369 nodes...\n",
            "Graph built with 382 edges.\n",
            "New graph: 6369 nodes, 382 edges\n",
            "\n",
            "==================================================\n",
            "Processing merge at threshold 3\n",
            "Building graph for 6369 nodes...\n",
            "Graph built with 18775 edges.\n",
            "Found 10969 maximal cliques (including singletons).\n",
            "After partitioning, 5227 clusters created.\n",
            "Aggregated positions shape: (5227, 784)\n",
            "Building graph for 5227 nodes...\n",
            "Graph built with 10189 edges.\n",
            "New graph: 5227 nodes, 10189 edges\n",
            "\n",
            "==================================================\n",
            "Processing merge at threshold 4\n",
            "Building graph for 5227 nodes...\n",
            "Graph built with 148941 edges.\n",
            "Found 757280 maximal cliques (including singletons).\n",
            "After partitioning, 4064 clusters created.\n",
            "Aggregated positions shape: (4064, 784)\n",
            "Building graph for 4064 nodes...\n",
            "Graph built with 70925 edges.\n",
            "New graph: 4064 nodes, 70925 edges\n",
            "\n",
            "==================================================\n",
            "Processing merge at threshold 5\n",
            "Building graph for 4064 nodes...\n",
            "Graph built with 439835 edges.\n"
          ]
        }
      ]
    },
    {
      "cell_type": "code",
      "source": [
        "import networkx as nx\n",
        "\n",
        "# Get the set of nodes in the largest connected component\n",
        "largest_cc = max(nx.connected_components(G), key=len)\n",
        "\n",
        "# Create a subgraph containing only these nodes (and all edges between them)\n",
        "G_largest = G.subgraph(largest_cc)#.copy()\n"
      ],
      "metadata": {
        "id": "wJE4GutLkCaK"
      },
      "execution_count": 13,
      "outputs": []
    },
    {
      "cell_type": "code",
      "source": [
        "from networkx.algorithms import approximation as approx\n",
        "\n",
        "# Approximate diameter of the graph\n",
        "approx_diam = approx.diameter(G_largest)\n",
        "print(\"Approximate Diameter:\", approx_diam)\n"
      ],
      "metadata": {
        "colab": {
          "base_uri": "https://localhost:8080/"
        },
        "id": "xLu9LalXltRw",
        "outputId": "9ee463c3-ea06-4877-a4d1-fec2ae4b1d19"
      },
      "execution_count": 17,
      "outputs": [
        {
          "output_type": "stream",
          "name": "stdout",
          "text": [
            "Approximate Diameter: 10\n"
          ]
        }
      ]
    },
    {
      "cell_type": "code",
      "source": [
        "import numpy as np\n",
        "import kmapper as km\n",
        "import matplotlib.pyplot as plt\n",
        "from sklearn.decomposition import PCA\n",
        "from sklearn.cluster import DBSCAN\n",
        "from ripser import ripser\n",
        "import persim\n",
        "\n",
        "# Use PCA as a lens to project the data to 2D.\n",
        "pca = PCA(n_components=2)\n",
        "lens = pca.fit_transform(unique_vectors)\n",
        "\n",
        "# Create a KeplerMapper object.\n",
        "mapper = km.KeplerMapper(verbose=1)\n",
        "\n",
        "# Define the cover parameters.\n",
        "cover = km.Cover(n_cubes=15, perc_overlap=0.3)\n",
        "\n",
        "# Cluster using DBSCAN. You may need to adjust eps and min_samples based on your data.\n",
        "clusterer = DBSCAN(eps=6, min_samples=5)\n",
        "\n",
        "# Build the mapper graph.\n",
        "graph = mapper.map(lens,\n",
        "                   unique_vectors,\n",
        "                   cover=cover,\n",
        "                   clusterer=clusterer)\n",
        "\n",
        "# Visualize the mapper graph.\n",
        "# This will create an interactive HTML file you can open in a browser.\n",
        "mapper.visualize(graph,\n",
        "                 path_html=\"mapper_mnist1.html\",\n",
        "                 title=\"Mapper Graph of MNIST 1s\")\n",
        "print(\"Mapper visualization saved as 'mapper_mnist1.html'.\")"
      ],
      "metadata": {
        "colab": {
          "base_uri": "https://localhost:8080/"
        },
        "id": "0woWp3Tam-O2",
        "outputId": "50e5cd7f-1e68-460d-90fa-455265a1093d"
      },
      "execution_count": 15,
      "outputs": [
        {
          "output_type": "stream",
          "name": "stdout",
          "text": [
            "KeplerMapper(verbose=1)\n",
            "Mapping on data shaped torch.Size([6726, 784]) using lens shaped (6726, 2)\n",
            "\n",
            "Creating 225 hypercubes.\n",
            "\n",
            "Created 499 edges and 153 nodes in 0:00:01.028934.\n",
            "Wrote visualization to: mapper_mnist1.html\n",
            "Mapper visualization saved as 'mapper_mnist1.html'.\n"
          ]
        }
      ]
    },
    {
      "cell_type": "code",
      "source": [
        "# Compute persistent homology on your data.\n",
        "# maxdim=1 computes connected components (H0) and loops (H1).\n",
        "ph_result = ripser(unique_vectors, maxdim=1)\n",
        "\n",
        "# Plot persistence diagrams.\n",
        "persim.plot_diagrams(ph_result['dgms'], show=True)"
      ],
      "metadata": {
        "colab": {
          "base_uri": "https://localhost:8080/",
          "height": 449
        },
        "id": "mrmGSll8pUnU",
        "outputId": "48be0d7d-2434-4ba7-8538-ab849ec01fbd"
      },
      "execution_count": 17,
      "outputs": [
        {
          "output_type": "display_data",
          "data": {
            "text/plain": [
              "<Figure size 640x480 with 1 Axes>"
            ],
            "image/png": "[encoded data removed]"
          },
          "metadata": {}
        }
      ]
    },
    {
      "cell_type": "markdown",
      "source": [
        "1 connected component at the end, no long lived loops."
      ],
      "metadata": {
        "id": "73dK-wUVqsHU"
      }
    }
  ]
}