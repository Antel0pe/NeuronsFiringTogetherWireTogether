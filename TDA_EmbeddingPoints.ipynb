{
  "nbformat": 4,
  "nbformat_minor": 0,
  "metadata": {
    "colab": {
      "provenance": []
    },
    "kernelspec": {
      "name": "python3",
      "display_name": "Python 3"
    },
    "language_info": {
      "name": "python"
    }
  },
  "cells": [
    {
      "cell_type": "code",
      "source": [
        "!pip install sentence-transformers\n",
        "!pip install scikit-tda[all]\n",
        "!pip install kmapper\n"
      ],
      "metadata": {
        "colab": {
          "base_uri": "https://localhost:8080/"
        },
        "id": "WTqq10mF57fc",
        "outputId": "9bbe596b-2be0-40c6-de1c-cf382498bd24"
      },
      "execution_count": 1,
      "outputs": [
        {
          "output_type": "stream",
          "name": "stdout",
          "text": [
            "Requirement already satisfied: sentence-transformers in /usr/local/lib/python3.11/dist-packages (3.4.1)\n",
            "Requirement already satisfied: transformers<5.0.0,>=4.41.0 in /usr/local/lib/python3.11/dist-packages (from sentence-transformers) (4.49.0)\n",
            "Requirement already satisfied: tqdm in /usr/local/lib/python3.11/dist-packages (from sentence-transformers) (4.67.1)\n",
            "Requirement already satisfied: torch>=1.11.0 in /usr/local/lib/python3.11/dist-packages (from sentence-transformers) (2.6.0+cu124)\n",
            "Requirement already satisfied: scikit-learn in /usr/local/lib/python3.11/dist-packages (from sentence-transformers) (1.6.1)\n",
            "Requirement already satisfied: scipy in /usr/local/lib/python3.11/dist-packages (from sentence-transformers) (1.14.1)\n",
            "Requirement already satisfied: huggingface-hub>=0.20.0 in /usr/local/lib/python3.11/dist-packages (from sentence-transformers) (0.29.3)\n",
            "Requirement already satisfied: Pillow in /usr/local/lib/python3.11/dist-packages (from sentence-transformers) (11.1.0)\n",
            "Requirement already satisfied: filelock in /usr/local/lib/python3.11/dist-packages (from huggingface-hub>=0.20.0->sentence-transformers) (3.18.0)\n",
            "Requirement already satisfied: fsspec>=2023.5.0 in /usr/local/lib/python3.11/dist-packages (from huggingface-hub>=0.20.0->sentence-transformers) (2025.3.0)\n",
            "Requirement already satisfied: packaging>=20.9 in /usr/local/lib/python3.11/dist-packages (from huggingface-hub>=0.20.0->sentence-transformers) (24.2)\n",
            "Requirement already satisfied: pyyaml>=5.1 in /usr/local/lib/python3.11/dist-packages (from huggingface-hub>=0.20.0->sentence-transformers) (6.0.2)\n",
            "Requirement already satisfied: requests in /usr/local/lib/python3.11/dist-packages (from huggingface-hub>=0.20.0->sentence-transformers) (2.32.3)\n",
            "Requirement already satisfied: typing-extensions>=3.7.4.3 in /usr/local/lib/python3.11/dist-packages (from huggingface-hub>=0.20.0->sentence-transformers) (4.12.2)\n",
            "Requirement already satisfied: networkx in /usr/local/lib/python3.11/dist-packages (from torch>=1.11.0->sentence-transformers) (3.4.2)\n",
            "Requirement already satisfied: jinja2 in /usr/local/lib/python3.11/dist-packages (from torch>=1.11.0->sentence-transformers) (3.1.6)\n",
            "Requirement already satisfied: nvidia-cuda-nvrtc-cu12==12.4.127 in /usr/local/lib/python3.11/dist-packages (from torch>=1.11.0->sentence-transformers) (12.4.127)\n",
            "Requirement already satisfied: nvidia-cuda-runtime-cu12==12.4.127 in /usr/local/lib/python3.11/dist-packages (from torch>=1.11.0->sentence-transformers) (12.4.127)\n",
            "Requirement already satisfied: nvidia-cuda-cupti-cu12==12.4.127 in /usr/local/lib/python3.11/dist-packages (from torch>=1.11.0->sentence-transformers) (12.4.127)\n",
            "Requirement already satisfied: nvidia-cudnn-cu12==9.1.0.70 in /usr/local/lib/python3.11/dist-packages (from torch>=1.11.0->sentence-transformers) (9.1.0.70)\n",
            "Requirement already satisfied: nvidia-cublas-cu12==12.4.5.8 in /usr/local/lib/python3.11/dist-packages (from torch>=1.11.0->sentence-transformers) (12.4.5.8)\n",
            "Requirement already satisfied: nvidia-cufft-cu12==11.2.1.3 in /usr/local/lib/python3.11/dist-packages (from torch>=1.11.0->sentence-transformers) (11.2.1.3)\n",
            "Requirement already satisfied: nvidia-curand-cu12==10.3.5.147 in /usr/local/lib/python3.11/dist-packages (from torch>=1.11.0->sentence-transformers) (10.3.5.147)\n",
            "Requirement already satisfied: nvidia-cusolver-cu12==11.6.1.9 in /usr/local/lib/python3.11/dist-packages (from torch>=1.11.0->sentence-transformers) (11.6.1.9)\n",
            "Requirement already satisfied: nvidia-cusparse-cu12==12.3.1.170 in /usr/local/lib/python3.11/dist-packages (from torch>=1.11.0->sentence-transformers) (12.3.1.170)\n",
            "Requirement already satisfied: nvidia-cusparselt-cu12==0.6.2 in /usr/local/lib/python3.11/dist-packages (from torch>=1.11.0->sentence-transformers) (0.6.2)\n",
            "Requirement already satisfied: nvidia-nccl-cu12==2.21.5 in /usr/local/lib/python3.11/dist-packages (from torch>=1.11.0->sentence-transformers) (2.21.5)\n",
            "Requirement already satisfied: nvidia-nvtx-cu12==12.4.127 in /usr/local/lib/python3.11/dist-packages (from torch>=1.11.0->sentence-transformers) (12.4.127)\n",
            "Requirement already satisfied: nvidia-nvjitlink-cu12==12.4.127 in /usr/local/lib/python3.11/dist-packages (from torch>=1.11.0->sentence-transformers) (12.4.127)\n",
            "Requirement already satisfied: triton==3.2.0 in /usr/local/lib/python3.11/dist-packages (from torch>=1.11.0->sentence-transformers) (3.2.0)\n",
            "Requirement already satisfied: sympy==1.13.1 in /usr/local/lib/python3.11/dist-packages (from torch>=1.11.0->sentence-transformers) (1.13.1)\n",
            "Requirement already satisfied: mpmath<1.4,>=1.1.0 in /usr/local/lib/python3.11/dist-packages (from sympy==1.13.1->torch>=1.11.0->sentence-transformers) (1.3.0)\n",
            "Requirement already satisfied: numpy>=1.17 in /usr/local/lib/python3.11/dist-packages (from transformers<5.0.0,>=4.41.0->sentence-transformers) (2.0.2)\n",
            "Requirement already satisfied: regex!=2019.12.17 in /usr/local/lib/python3.11/dist-packages (from transformers<5.0.0,>=4.41.0->sentence-transformers) (2024.11.6)\n",
            "Requirement already satisfied: tokenizers<0.22,>=0.21 in /usr/local/lib/python3.11/dist-packages (from transformers<5.0.0,>=4.41.0->sentence-transformers) (0.21.1)\n",
            "Requirement already satisfied: safetensors>=0.4.1 in /usr/local/lib/python3.11/dist-packages (from transformers<5.0.0,>=4.41.0->sentence-transformers) (0.5.3)\n",
            "Requirement already satisfied: joblib>=1.2.0 in /usr/local/lib/python3.11/dist-packages (from scikit-learn->sentence-transformers) (1.4.2)\n",
            "Requirement already satisfied: threadpoolctl>=3.1.0 in /usr/local/lib/python3.11/dist-packages (from scikit-learn->sentence-transformers) (3.6.0)\n",
            "Requirement already satisfied: MarkupSafe>=2.0 in /usr/local/lib/python3.11/dist-packages (from jinja2->torch>=1.11.0->sentence-transformers) (3.0.2)\n",
            "Requirement already satisfied: charset-normalizer<4,>=2 in /usr/local/lib/python3.11/dist-packages (from requests->huggingface-hub>=0.20.0->sentence-transformers) (3.4.1)\n",
            "Requirement already satisfied: idna<4,>=2.5 in /usr/local/lib/python3.11/dist-packages (from requests->huggingface-hub>=0.20.0->sentence-transformers) (3.10)\n",
            "Requirement already satisfied: urllib3<3,>=1.21.1 in /usr/local/lib/python3.11/dist-packages (from requests->huggingface-hub>=0.20.0->sentence-transformers) (2.3.0)\n",
            "Requirement already satisfied: certifi>=2017.4.17 in /usr/local/lib/python3.11/dist-packages (from requests->huggingface-hub>=0.20.0->sentence-transformers) (2025.1.31)\n",
            "Requirement already satisfied: scikit-tda[all] in /usr/local/lib/python3.11/dist-packages (1.1.1)\n",
            "\u001b[33mWARNING: scikit-tda 1.1.1 does not provide the extra 'all'\u001b[0m\u001b[33m\n",
            "\u001b[0mRequirement already satisfied: numpy in /usr/local/lib/python3.11/dist-packages (from scikit-tda[all]) (2.0.2)\n",
            "Requirement already satisfied: scipy in /usr/local/lib/python3.11/dist-packages (from scikit-tda[all]) (1.14.1)\n",
            "Requirement already satisfied: scikit-learn in /usr/local/lib/python3.11/dist-packages (from scikit-tda[all]) (1.6.1)\n",
            "Requirement already satisfied: matplotlib in /usr/local/lib/python3.11/dist-packages (from scikit-tda[all]) (3.10.0)\n",
            "Requirement already satisfied: Cython in /usr/local/lib/python3.11/dist-packages (from scikit-tda[all]) (3.0.12)\n",
            "Requirement already satisfied: ripser in /usr/local/lib/python3.11/dist-packages (from scikit-tda[all]) (0.6.12)\n",
            "Requirement already satisfied: persim in /usr/local/lib/python3.11/dist-packages (from scikit-tda[all]) (0.3.8)\n",
            "Requirement already satisfied: pillow in /usr/local/lib/python3.11/dist-packages (from scikit-tda[all]) (11.1.0)\n",
            "Requirement already satisfied: kmapper in /usr/local/lib/python3.11/dist-packages (from scikit-tda[all]) (2.1.0)\n",
            "Requirement already satisfied: tadasets in /usr/local/lib/python3.11/dist-packages (from scikit-tda[all]) (0.2.1)\n",
            "Requirement already satisfied: Jinja2 in /usr/local/lib/python3.11/dist-packages (from kmapper->scikit-tda[all]) (3.1.6)\n",
            "Requirement already satisfied: contourpy>=1.0.1 in /usr/local/lib/python3.11/dist-packages (from matplotlib->scikit-tda[all]) (1.3.1)\n",
            "Requirement already satisfied: cycler>=0.10 in /usr/local/lib/python3.11/dist-packages (from matplotlib->scikit-tda[all]) (0.12.1)\n",
            "Requirement already satisfied: fonttools>=4.22.0 in /usr/local/lib/python3.11/dist-packages (from matplotlib->scikit-tda[all]) (4.56.0)\n",
            "Requirement already satisfied: kiwisolver>=1.3.1 in /usr/local/lib/python3.11/dist-packages (from matplotlib->scikit-tda[all]) (1.4.8)\n",
            "Requirement already satisfied: packaging>=20.0 in /usr/local/lib/python3.11/dist-packages (from matplotlib->scikit-tda[all]) (24.2)\n",
            "Requirement already satisfied: pyparsing>=2.3.1 in /usr/local/lib/python3.11/dist-packages (from matplotlib->scikit-tda[all]) (3.2.1)\n",
            "Requirement already satisfied: python-dateutil>=2.7 in /usr/local/lib/python3.11/dist-packages (from matplotlib->scikit-tda[all]) (2.8.2)\n",
            "Requirement already satisfied: deprecated in /usr/local/lib/python3.11/dist-packages (from persim->scikit-tda[all]) (1.2.18)\n",
            "Requirement already satisfied: hopcroftkarp in /usr/local/lib/python3.11/dist-packages (from persim->scikit-tda[all]) (1.2.5)\n",
            "Requirement already satisfied: joblib in /usr/local/lib/python3.11/dist-packages (from persim->scikit-tda[all]) (1.4.2)\n",
            "Requirement already satisfied: threadpoolctl>=3.1.0 in /usr/local/lib/python3.11/dist-packages (from scikit-learn->scikit-tda[all]) (3.6.0)\n",
            "Requirement already satisfied: six>=1.5 in /usr/local/lib/python3.11/dist-packages (from python-dateutil>=2.7->matplotlib->scikit-tda[all]) (1.17.0)\n",
            "Requirement already satisfied: wrapt<2,>=1.10 in /usr/local/lib/python3.11/dist-packages (from deprecated->persim->scikit-tda[all]) (1.17.2)\n",
            "Requirement already satisfied: MarkupSafe>=2.0 in /usr/local/lib/python3.11/dist-packages (from Jinja2->kmapper->scikit-tda[all]) (3.0.2)\n",
            "Requirement already satisfied: kmapper in /usr/local/lib/python3.11/dist-packages (2.1.0)\n",
            "Requirement already satisfied: scikit-learn in /usr/local/lib/python3.11/dist-packages (from kmapper) (1.6.1)\n",
            "Requirement already satisfied: numpy in /usr/local/lib/python3.11/dist-packages (from kmapper) (2.0.2)\n",
            "Requirement already satisfied: scipy in /usr/local/lib/python3.11/dist-packages (from kmapper) (1.14.1)\n",
            "Requirement already satisfied: Jinja2 in /usr/local/lib/python3.11/dist-packages (from kmapper) (3.1.6)\n",
            "Requirement already satisfied: MarkupSafe>=2.0 in /usr/local/lib/python3.11/dist-packages (from Jinja2->kmapper) (3.0.2)\n",
            "Requirement already satisfied: joblib>=1.2.0 in /usr/local/lib/python3.11/dist-packages (from scikit-learn->kmapper) (1.4.2)\n",
            "Requirement already satisfied: threadpoolctl>=3.1.0 in /usr/local/lib/python3.11/dist-packages (from scikit-learn->kmapper) (3.6.0)\n"
          ]
        }
      ]
    },
    {
      "cell_type": "code",
      "execution_count": 31,
      "metadata": {
        "id": "S6CnA-345jKd"
      },
      "outputs": [],
      "source": [
        "sentences = [\n",
        "    \"Time is money\",\n",
        "    \"He's skating on thin ice\",\n",
        "    \"Break a leg\",\n",
        "    \"A storm is brewing\",\n",
        "    \"It’s raining cats and dogs\",\n",
        "    \"She spilled the beans\",\n",
        "    \"He has a heart of stone\",\n",
        "    \"They’re barking up the wrong tree\",\n",
        "    \"The ball is in your court\",\n",
        "    \"A leopard can't change its spots\",\n",
        "    \"Don’t cry over spilled milk\",\n",
        "    \"Burning the midnight oil\",\n",
        "    \"Jumping on the bandwagon\",\n",
        "    \"The tip of the iceberg\",\n",
        "    \"Caught between a rock and a hard place\",\n",
        "    \"Kicking the can down the road\",\n",
        "    \"Throwing the baby out with the bathwater\",\n",
        "    \"Let the cat out of the bag\",\n",
        "    \"A fish out of water\",\n",
        "    \"Walking on eggshells\",\n",
        "    \"The elephant in the room\",\n",
        "    \"Don’t judge a book by its cover\",\n",
        "    \"You can’t have your cake and eat it too\",\n",
        "    \"A blessing in disguise\",\n",
        "    \"Hit the nail on the head\",\n",
        "    \"Kill two birds with one stone\",\n",
        "    \"Bite the bullet\",\n",
        "    \"Barking mad\",\n",
        "    \"A chip on your shoulder\",\n",
        "    \"The last straw\",\n",
        "    \"Under the weather\",\n",
        "    \"Take it with a grain of salt\",\n",
        "    \"Throw in the towel\",\n",
        "    \"Put all your eggs in one basket\",\n",
        "    \"Riding high\",\n",
        "    \"Out of the frying pan and into the fire\",\n",
        "    \"The writing on the wall\",\n",
        "    \"Let sleeping dogs lie\",\n",
        "    \"Burning bridges\",\n",
        "    \"Bite off more than you can chew\",\n",
        "    \"Go the extra mile\",\n",
        "    \"Hit the ground running\",\n",
        "    \"Burned out\",\n",
        "    \"Living in a bubble\",\n",
        "    \"Walking a tightrope\",\n",
        "    \"Like herding cats\",\n",
        "    \"He’s a loose cannon\",\n",
        "    \"Playing devil’s advocate\",\n",
        "    \"A can of worms\",\n",
        "    \"Opening Pandora’s box\"\n",
        "]\n",
        "\n",
        "# sentences = [\n",
        "#     \"Hello!\",\n",
        "#     \"Good morning!\",\n",
        "#     \"Good afternoon!\",\n",
        "#     \"Good evening!\",\n",
        "#     \"Hi there!\",\n",
        "#     \"How are you?\",\n",
        "#     \"Nice to meet you!\",\n",
        "#     \"How do you do?\",\n",
        "#     \"Greetings!\",\n",
        "#     \"Salutations!\",\n",
        "#     # ^ 9, below 10\n",
        "#     \"The farmer is plowing the field.\",\n",
        "#     \"The cow is grazing in the pasture.\",\n",
        "#     \"The pig is rooting in the mud.\",\n",
        "#     \"The chicken is laying an egg.\",\n",
        "#     \"The horse is pulling the cart.\",\n",
        "#     \"The sheep are grazing in the meadow.\",\n",
        "#     \"The farmer is harvesting the crops.\",\n",
        "#     \"The barn is full of hay.\",\n",
        "#     \"The tractor is driving through the farm.\",\n",
        "#     \"The dog is chasing the chickens.\"\n",
        "# ]\n"
      ]
    },
    {
      "cell_type": "code",
      "source": [
        "from sentence_transformers import SentenceTransformer\n",
        "model = SentenceTransformer('BAAI/bge-small-en-v1.5')"
      ],
      "metadata": {
        "colab": {
          "base_uri": "https://localhost:8080/"
        },
        "id": "jiV3hReE5ptz",
        "outputId": "873e3a7b-269c-4617-a095-9ac51b61cb01"
      },
      "execution_count": 3,
      "outputs": [
        {
          "output_type": "stream",
          "name": "stderr",
          "text": [
            "/usr/local/lib/python3.11/dist-packages/huggingface_hub/utils/_auth.py:94: UserWarning: \n",
            "The secret `HF_TOKEN` does not exist in your Colab secrets.\n",
            "To authenticate with the Hugging Face Hub, create a token in your settings tab (https://huggingface.co/settings/tokens), set it as secret in your Google Colab and restart your session.\n",
            "You will be able to reuse this secret in all of your notebooks.\n",
            "Please note that authentication is recommended but still optional to access public models or datasets.\n",
            "  warnings.warn(\n"
          ]
        }
      ]
    },
    {
      "cell_type": "code",
      "source": [
        "embeddings = []\n",
        "for i in sentences:\n",
        "    embeddings.append(model.encode(i))"
      ],
      "metadata": {
        "id": "wNa-4o5c7Uy3"
      },
      "execution_count": 32,
      "outputs": []
    },
    {
      "cell_type": "code",
      "source": [
        "import numpy as np\n",
        "embeddings = np.array(embeddings)"
      ],
      "metadata": {
        "id": "wCkX2iCO77qU"
      },
      "execution_count": 33,
      "outputs": []
    },
    {
      "cell_type": "code",
      "source": [
        "print(\"Shape of embeddings:\", embeddings.shape)"
      ],
      "metadata": {
        "colab": {
          "base_uri": "https://localhost:8080/"
        },
        "id": "YtKd1IDT8VNo",
        "outputId": "5c941e3a-9b5e-4b94-ccd3-75404d6c811d"
      },
      "execution_count": 34,
      "outputs": [
        {
          "output_type": "stream",
          "name": "stdout",
          "text": [
            "Shape of embeddings: (50, 384)\n"
          ]
        }
      ]
    },
    {
      "cell_type": "code",
      "source": [
        "from ripser import ripser\n",
        "from persim import plot_diagrams\n",
        "\n",
        "diagrams = ripser(embeddings, maxdim=5)['dgms']\n",
        "plot_diagrams(diagrams, show=True)"
      ],
      "metadata": {
        "colab": {
          "base_uri": "https://localhost:8080/",
          "height": 504
        },
        "id": "fxzMqDRr7myX",
        "outputId": "1a1d2fee-5d19-406f-a48a-27515e837982"
      },
      "execution_count": 7,
      "outputs": [
        {
          "output_type": "stream",
          "name": "stderr",
          "text": [
            "/usr/local/lib/python3.11/dist-packages/ripser/ripser.py:253: UserWarning: The input point cloud has more columns than rows; did you mean to transpose?\n",
            "  warnings.warn(\n"
          ]
        },
        {
          "output_type": "display_data",
          "data": {
            "text/plain": [
              "<Figure size 640x480 with 1 Axes>"
            ],
            "image/png": "[encoded data removed]"
          },
          "metadata": {}
        }
      ]
    },
    {
      "cell_type": "code",
      "source": [
        "import kmapper as km\n",
        "from sklearn.manifold import TSNE\n",
        "from sklearn.cluster import DBSCAN\n",
        "import numpy as np\n",
        "from sklearn.decomposition import PCA\n",
        "from sklearn.cluster import KMeans\n",
        "\n",
        "mapper = km.KeplerMapper(verbose=1)\n",
        "\n",
        "lens = mapper.fit_transform(embeddings, projection=PCA(n_components=2))\n",
        "\n",
        "graph = mapper.map(\n",
        "    lens,\n",
        "    embeddings,\n",
        "    cover = km.Cover(n_cubes=6, perc_overlap=0.6),\n",
        "    clusterer = DBSCAN(eps=0.75, min_samples=2)\n",
        ")\n",
        "\n"
      ],
      "metadata": {
        "colab": {
          "base_uri": "https://localhost:8080/"
        },
        "id": "hWOUUW83Bvi7",
        "outputId": "dfb38d41-ae70-4d0d-b9d6-4b79a13b3ce0"
      },
      "execution_count": 42,
      "outputs": [
        {
          "output_type": "stream",
          "name": "stdout",
          "text": [
            "KeplerMapper(verbose=1)\n",
            "..Composing projection pipeline of length 1:\n",
            "\tProjections: PCA(n_components=2)\n",
            "\tDistance matrices: False\n",
            "\tScalers: MinMaxScaler()\n",
            "..Projecting on data shaped (50, 384)\n",
            "\n",
            "..Projecting data using: \n",
            "\tPCA(n_components=2)\n",
            "\n",
            "\n",
            "..Scaling with: MinMaxScaler()\n",
            "\n",
            "Mapping on data shaped (50, 384) using lens shaped (50, 2)\n",
            "\n",
            "Creating 36 hypercubes.\n",
            "\n",
            "Created 8 edges and 9 nodes in 0:00:00.102690.\n"
          ]
        }
      ]
    },
    {
      "cell_type": "code",
      "source": [
        "graph"
      ],
      "metadata": {
        "colab": {
          "base_uri": "https://localhost:8080/"
        },
        "id": "Pr2JfC_NEPBX",
        "outputId": "4d508221-9f56-43eb-8e2a-825bc8492824"
      },
      "execution_count": 43,
      "outputs": [
        {
          "output_type": "execute_result",
          "data": {
            "text/plain": [
              "{'nodes': defaultdict(list,\n",
              "             {'cube3_cluster0': [3, 30],\n",
              "              'cube4_cluster0': [3, 30],\n",
              "              'cube6_cluster0': [7, 27],\n",
              "              'cube7_cluster0': [7, 27],\n",
              "              'cube9_cluster0': [3, 30],\n",
              "              'cube10_cluster0': [3, 30],\n",
              "              'cube27_cluster0': [26, 39],\n",
              "              'cube31_cluster0': [31, 32],\n",
              "              'cube33_cluster0': [26, 39]}),\n",
              " 'links': defaultdict(list,\n",
              "             {'cube3_cluster0': ['cube4_cluster0',\n",
              "               'cube9_cluster0',\n",
              "               'cube10_cluster0'],\n",
              "              'cube4_cluster0': ['cube9_cluster0', 'cube10_cluster0'],\n",
              "              'cube6_cluster0': ['cube7_cluster0'],\n",
              "              'cube9_cluster0': ['cube10_cluster0'],\n",
              "              'cube27_cluster0': ['cube33_cluster0']}),\n",
              " 'simplices': [['cube3_cluster0'],\n",
              "  ['cube4_cluster0'],\n",
              "  ['cube6_cluster0'],\n",
              "  ['cube7_cluster0'],\n",
              "  ['cube9_cluster0'],\n",
              "  ['cube10_cluster0'],\n",
              "  ['cube27_cluster0'],\n",
              "  ['cube31_cluster0'],\n",
              "  ['cube33_cluster0'],\n",
              "  ['cube3_cluster0', 'cube4_cluster0'],\n",
              "  ['cube3_cluster0', 'cube9_cluster0'],\n",
              "  ['cube3_cluster0', 'cube10_cluster0'],\n",
              "  ['cube4_cluster0', 'cube9_cluster0'],\n",
              "  ['cube4_cluster0', 'cube10_cluster0'],\n",
              "  ['cube6_cluster0', 'cube7_cluster0'],\n",
              "  ['cube9_cluster0', 'cube10_cluster0'],\n",
              "  ['cube27_cluster0', 'cube33_cluster0']],\n",
              " 'meta_data': {'projection': 'PCA(n_components=2)',\n",
              "  'n_cubes': 6,\n",
              "  'perc_overlap': 0.6,\n",
              "  'clusterer': 'DBSCAN(eps=0.75, min_samples=2)',\n",
              "  'scaler': 'MinMaxScaler()',\n",
              "  'nerve_min_intersection': 1},\n",
              " 'meta_nodes': defaultdict(list, {})}"
            ]
          },
          "metadata": {},
          "execution_count": 43
        }
      ]
    },
    {
      "cell_type": "code",
      "source": [
        "mapper.visualize(graph, path_html=\"/content/mapper_output.html\", title=\"Mapper Graph\")\n",
        "\n",
        "from google.colab import files\n",
        "files.download('mapper_output.html')\n"
      ],
      "metadata": {
        "colab": {
          "base_uri": "https://localhost:8080/",
          "height": 35
        },
        "id": "MvnZQlSkB4zt",
        "outputId": "78d99cfc-ade1-4293-cc65-02b041cb8af8"
      },
      "execution_count": 44,
      "outputs": [
        {
          "output_type": "stream",
          "name": "stdout",
          "text": [
            "Wrote visualization to: /content/mapper_output.html\n"
          ]
        },
        {
          "output_type": "display_data",
          "data": {
            "text/plain": [
              "<IPython.core.display.Javascript object>"
            ],
            "application/javascript": [
              "\n",
              "    async function download(id, filename, size) {\n",
              "      if (!google.colab.kernel.accessAllowed) {\n",
              "        return;\n",
              "      }\n",
              "      const div = document.createElement('div');\n",
              "      const label = document.createElement('label');\n",
              "      label.textContent = `Downloading \"${filename}\": `;\n",
              "      div.appendChild(label);\n",
              "      const progress = document.createElement('progress');\n",
              "      progress.max = size;\n",
              "      div.appendChild(progress);\n",
              "      document.body.appendChild(div);\n",
              "\n",
              "      const buffers = [];\n",
              "      let downloaded = 0;\n",
              "\n",
              "      const channel = await google.colab.kernel.comms.open(id);\n",
              "      // Send a message to notify the kernel that we're ready.\n",
              "      channel.send({})\n",
              "\n",
              "      for await (const message of channel.messages) {\n",
              "        // Send a message to notify the kernel that we're ready.\n",
              "        channel.send({})\n",
              "        if (message.buffers) {\n",
              "          for (const buffer of message.buffers) {\n",
              "            buffers.push(buffer);\n",
              "            downloaded += buffer.byteLength;\n",
              "            progress.value = downloaded;\n",
              "          }\n",
              "        }\n",
              "      }\n",
              "      const blob = new Blob(buffers, {type: 'application/binary'});\n",
              "      const a = document.createElement('a');\n",
              "      a.href = window.URL.createObjectURL(blob);\n",
              "      a.download = filename;\n",
              "      div.appendChild(a);\n",
              "      a.click();\n",
              "      div.remove();\n",
              "    }\n",
              "  "
            ]
          },
          "metadata": {}
        },
        {
          "output_type": "display_data",
          "data": {
            "text/plain": [
              "<IPython.core.display.Javascript object>"
            ],
            "application/javascript": [
              "download(\"download_929b5f9a-a104-4c61-bcde-df3a2a455f39\", \"mapper_output.html\", 56823)"
            ]
          },
          "metadata": {}
        }
      ]
    },
    {
      "cell_type": "code",
      "source": [
        "for node, indices in graph['nodes'].items():\n",
        "    print(f\"Node {node} ({len(indices)} points):\")\n",
        "    for i in indices:\n",
        "        print(f\"  {sentences[i]}\")\n",
        "    print()\n"
      ],
      "metadata": {
        "colab": {
          "base_uri": "https://localhost:8080/"
        },
        "id": "BjVGM2d9F4w5",
        "outputId": "0a74373b-1577-40d0-d579-3ce68a93f7f7"
      },
      "execution_count": 45,
      "outputs": [
        {
          "output_type": "stream",
          "name": "stdout",
          "text": [
            "Node cube3_cluster0 (2 points):\n",
            "  A storm is brewing\n",
            "  Under the weather\n",
            "\n",
            "Node cube4_cluster0 (2 points):\n",
            "  A storm is brewing\n",
            "  Under the weather\n",
            "\n",
            "Node cube6_cluster0 (2 points):\n",
            "  They’re barking up the wrong tree\n",
            "  Barking mad\n",
            "\n",
            "Node cube7_cluster0 (2 points):\n",
            "  They’re barking up the wrong tree\n",
            "  Barking mad\n",
            "\n",
            "Node cube9_cluster0 (2 points):\n",
            "  A storm is brewing\n",
            "  Under the weather\n",
            "\n",
            "Node cube10_cluster0 (2 points):\n",
            "  A storm is brewing\n",
            "  Under the weather\n",
            "\n",
            "Node cube27_cluster0 (2 points):\n",
            "  Bite the bullet\n",
            "  Bite off more than you can chew\n",
            "\n",
            "Node cube31_cluster0 (2 points):\n",
            "  Take it with a grain of salt\n",
            "  Throw in the towel\n",
            "\n",
            "Node cube33_cluster0 (2 points):\n",
            "  Bite the bullet\n",
            "  Bite off more than you can chew\n",
            "\n"
          ]
        }
      ]
    }
  ]
}